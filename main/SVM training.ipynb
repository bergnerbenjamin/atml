{
 "cells": [
  {
   "cell_type": "markdown",
   "metadata": {},
   "source": [
    "# The Idea\n",
    "\n",
    "The SVM learning approach is pretty generic, if 'only' you had the right kernel alsmost every problem may be solved with an svm. In our case it was mostly curiosity of how svms would perform, given some of the default kernels.\n",
    "The Kernel that outperformed others by far is the 'rbf' kernel, which operates on the distance of the vectors.\n",
    "\n",
    "A problem that came up is that (at least in this implementation) training the SVM and also using it to classify new instances takes a lot of time. By limiting the maximum number of iterations computations can be made, but the SVM does not converge fast enough if to many training samples are provided. Especially as the classification should quite propably run on a mobile phone this is a big disadvantage of the approach."
   ]
  },
  {
   "cell_type": "markdown",
   "metadata": {},
   "source": [
    "# Some startup code\n",
    "\n",
    "import packages needed & load dataset"
   ]
  },
  {
   "cell_type": "code",
   "execution_count": 1,
   "metadata": {
    "collapsed": false
   },
   "outputs": [
    {
     "name": "stderr",
     "output_type": "stream",
     "text": [
      "/usr/lib/python3.5/site-packages/IPython/core/interactiveshell.py:2825: DtypeWarning: Columns (0,1,2,3,4,5,6) have mixed types. Specify dtype option on import or set low_memory=False.\n",
      "  if self.run_code(code, result):\n"
     ]
    },
    {
     "name": "stdout",
     "output_type": "stream",
     "text": [
      "training data  : 199999 rows\n",
      "evaluation data: 79999 rows\n",
      "StandardScaler(copy=True, with_mean=True, with_std=True)\n"
     ]
    }
   ],
   "source": [
    "import warnings\n",
    "from sklearn.utils import ConvergenceWarning\n",
    "warnings.simplefilter('ignore', ConvergenceWarning)\n",
    "\n",
    "from sklearn import svm, datasets, preprocessing\n",
    "import numpy as np\n",
    "from loaddata import get_instances_from_csv\n",
    "from startEvaluation import evaluation\n",
    "from matplotlib import pyplot as plt\n",
    "%matplotlib inline\n",
    "\n",
    "\n",
    "\n",
    "DATAPATH = \"../sub_datasets/subset_0.csv\"\n",
    "DATAPATH1 = \"../sub_datasets/subset_4.csv\"\n",
    "RANDOM_SEED=42\n",
    "TRAINROWS = 200000\n",
    "EVALROWS = 80000\n",
    "\n",
    "training_data = get_instances_from_csv(DATAPATH, \"train\", numrows=TRAINROWS)\n",
    "eval_data = get_instances_from_csv(DATAPATH1,\"train\", numrows=EVALROWS)\n",
    "print(\"training data  : %s rows\"%training_data[0].shape[0])\n",
    "print(\"evaluation data: %s rows\"%eval_data[0].shape[0])\n",
    "\n",
    "kernels = ['rbf', 'linear', 'sigmoid', 'poly']\n",
    "\n",
    "scaler = preprocessing.StandardScaler()\n",
    "scaler.fit(training_data[0])\n",
    "print(scaler)\n",
    "\n",
    "def print_prediction(training_data, eval_data, *args, **kwargs):\n",
    "\n",
    "    svc = svm.SVC(random_state=RANDOM_SEED, cache_size=2000, max_iter=8000, *args, **kwargs).fit(training_data[0], training_data[1])\n",
    "    print(svc)\n",
    "    evt = evaluation(training_data[1], svc.predict(training_data[0]))\n",
    "    a1 = evt.print_only_accuracy()\n",
    "    eve = evaluation(eval_data[1], svc.predict(eval_data[0]))\n",
    "    a2 = eve.print_only_accuracy()\n",
    "    return (a1, a2)\n"
   ]
  },
  {
   "cell_type": "code",
   "execution_count": 2,
   "metadata": {
    "collapsed": false
   },
   "outputs": [
    {
     "name": "stdout",
     "output_type": "stream",
     "text": [
      "10000\n",
      "SVC(C=1.0, cache_size=2000, class_weight=None, coef0=0.0,\n",
      "  decision_function_shape=None, degree=3, gamma='auto', kernel='rbf',\n",
      "  max_iter=8000, probability=False, random_state=42, shrinking=True,\n",
      "  tol=0.001, verbose=False)\n",
      "0.694469446945\n",
      "0.654995687446\n",
      "13335\n",
      "SVC(C=1.0, cache_size=2000, class_weight=None, coef0=0.0,\n",
      "  decision_function_shape=None, degree=3, gamma='auto', kernel='rbf',\n",
      "  max_iter=8000, probability=False, random_state=42, shrinking=True,\n",
      "  tol=0.001, verbose=False)\n",
      "0.694315284236\n",
      "0.659370742134\n",
      "17782\n",
      "SVC(C=1.0, cache_size=2000, class_weight=None, coef0=0.0,\n",
      "  decision_function_shape=None, degree=3, gamma='auto', kernel='rbf',\n",
      "  max_iter=8000, probability=False, random_state=42, shrinking=True,\n",
      "  tol=0.001, verbose=False)\n",
      "0.695292728193\n",
      "0.662858285729\n",
      "23713\n",
      "SVC(C=1.0, cache_size=2000, class_weight=None, coef0=0.0,\n",
      "  decision_function_shape=None, degree=3, gamma='auto', kernel='rbf',\n",
      "  max_iter=8000, probability=False, random_state=42, shrinking=True,\n",
      "  tol=0.001, verbose=False)\n",
      "0.691506410256\n",
      "0.667045838073\n",
      "31622\n",
      "SVC(C=1.0, cache_size=2000, class_weight=None, coef0=0.0,\n",
      "  decision_function_shape=None, degree=3, gamma='auto', kernel='rbf',\n",
      "  max_iter=8000, probability=False, random_state=42, shrinking=True,\n",
      "  tol=0.001, verbose=False)\n",
      "0.69191360172\n",
      "0.670820885261\n",
      "42169\n",
      "SVC(C=1.0, cache_size=2000, class_weight=None, coef0=0.0,\n",
      "  decision_function_shape=None, degree=3, gamma='auto', kernel='rbf',\n",
      "  max_iter=8000, probability=False, random_state=42, shrinking=True,\n",
      "  tol=0.001, verbose=False)\n",
      "0.692088787706\n",
      "0.672883411043\n",
      "56234\n",
      "SVC(C=1.0, cache_size=2000, class_weight=None, coef0=0.0,\n",
      "  decision_function_shape=None, degree=3, gamma='auto', kernel='rbf',\n",
      "  max_iter=8000, probability=False, random_state=42, shrinking=True,\n",
      "  tol=0.001, verbose=False)\n",
      "0.69210250209\n",
      "0.677245965575\n",
      "74989\n",
      "SVC(C=1.0, cache_size=2000, class_weight=None, coef0=0.0,\n",
      "  decision_function_shape=None, degree=3, gamma='auto', kernel='rbf',\n",
      "  max_iter=8000, probability=False, random_state=42, shrinking=True,\n",
      "  tol=0.001, verbose=False)\n",
      "0.68657651891\n",
      "0.671233390417\n",
      "100000\n",
      "SVC(C=1.0, cache_size=2000, class_weight=None, coef0=0.0,\n",
      "  decision_function_shape=None, degree=3, gamma='auto', kernel='rbf',\n",
      "  max_iter=8000, probability=False, random_state=42, shrinking=True,\n",
      "  tol=0.001, verbose=False)\n",
      "0.651836518365\n",
      "0.64574557182\n"
     ]
    },
    {
     "data": {
      "image/png": "[encoded data removed]",
      "text/plain": [
       "<matplotlib.figure.Figure at 0x7fe28028eb70>"
      ]
     },
     "metadata": {},
     "output_type": "display_data"
    }
   ],
   "source": [
    "plot_data_num = []\n",
    "plot_data_accuracy = []\n",
    "plot_data_accuracy1 = []\n",
    "for num in np.logspace(4, 5, 9):\n",
    "    print(int(num))\n",
    "    a = print_prediction([training_data[0][1:int(num)],training_data[1][1:int(num)]], eval_data)\n",
    "    plot_data_num.append(int(num))\n",
    "    plot_data_accuracy.append(a[0])\n",
    "    plot_data_accuracy1.append(a[1])\n",
    "\n",
    "plot1 =  plt.bar(np.arange(len(plot_data_accuracy)), plot_data_accuracy, width=0.5, color=\"y\")\n",
    "\n",
    "plot = plt.bar(np.arange(len(plot_data_accuracy1)), plot_data_accuracy1, width=0.5, color=\"r\")\n",
    "plt.legend((plot1[0], plot[0]), ('Training', 'Eval'), loc=3)\n",
    "plt.ylim(ymin=min(plot_data_accuracy1)-0.1)\n",
    "plt.xticks(np.arange(len(plot_data_num))+0.25, plot_data_num)\n",
    "\n",
    "plt.show()"
   ]
  },
  {
   "cell_type": "code",
   "execution_count": 3,
   "metadata": {
    "collapsed": false
   },
   "outputs": [
    {
     "name": "stdout",
     "output_type": "stream",
     "text": [
      "10000\n",
      "SVC(C=1.0, cache_size=2000, class_weight=None, coef0=0.0,\n",
      "  decision_function_shape=None, degree=3, gamma='auto', kernel='poly',\n",
      "  max_iter=8000, probability=False, random_state=42, shrinking=True,\n",
      "  tol=0.001, verbose=False)\n",
      "0.251625162516\n",
      "0.243628045351\n",
      "13335\n",
      "SVC(C=1.0, cache_size=2000, class_weight=None, coef0=0.0,\n",
      "  decision_function_shape=None, degree=3, gamma='auto', kernel='poly',\n",
      "  max_iter=8000, probability=False, random_state=42, shrinking=True,\n",
      "  tol=0.001, verbose=False)\n",
      "0.211264436778\n",
      "0.206940086751\n",
      "17782\n",
      "SVC(C=1.0, cache_size=2000, class_weight=None, coef0=0.0,\n",
      "  decision_function_shape=None, degree=3, gamma='auto', kernel='poly',\n",
      "  max_iter=8000, probability=False, random_state=42, shrinking=True,\n",
      "  tol=0.001, verbose=False)\n",
      "0.187109836342\n",
      "0.184714808935\n",
      "23713\n",
      "SVC(C=1.0, cache_size=2000, class_weight=None, coef0=0.0,\n",
      "  decision_function_shape=None, degree=3, gamma='auto', kernel='poly',\n",
      "  max_iter=8000, probability=False, random_state=42, shrinking=True,\n",
      "  tol=0.001, verbose=False)\n",
      "0.180372807018\n",
      "0.179402242528\n",
      "31622\n",
      "SVC(C=1.0, cache_size=2000, class_weight=None, coef0=0.0,\n",
      "  decision_function_shape=None, degree=3, gamma='auto', kernel='poly',\n",
      "  max_iter=8000, probability=False, random_state=42, shrinking=True,\n",
      "  tol=0.001, verbose=False)\n",
      "0.139179659087\n",
      "0.139126739084\n",
      "42169\n",
      "SVC(C=1.0, cache_size=2000, class_weight=None, coef0=0.0,\n",
      "  decision_function_shape=None, degree=3, gamma='auto', kernel='poly',\n",
      "  max_iter=8000, probability=False, random_state=42, shrinking=True,\n",
      "  tol=0.001, verbose=False)\n",
      "0.187938721305\n",
      "0.18536481706\n",
      "56234\n",
      "SVC(C=1.0, cache_size=2000, class_weight=None, coef0=0.0,\n",
      "  decision_function_shape=None, degree=3, gamma='auto', kernel='poly',\n",
      "  max_iter=8000, probability=False, random_state=42, shrinking=True,\n",
      "  tol=0.001, verbose=False)\n",
      "0.157505379404\n",
      "0.156589457368\n",
      "74989\n",
      "SVC(C=1.0, cache_size=2000, class_weight=None, coef0=0.0,\n",
      "  decision_function_shape=None, degree=3, gamma='auto', kernel='poly',\n",
      "  max_iter=8000, probability=False, random_state=42, shrinking=True,\n",
      "  tol=0.001, verbose=False)\n",
      "0.0996426094842\n",
      "0.0978512231403\n",
      "100000\n",
      "SVC(C=1.0, cache_size=2000, class_weight=None, coef0=0.0,\n",
      "  decision_function_shape=None, degree=3, gamma='auto', kernel='poly',\n",
      "  max_iter=8000, probability=False, random_state=42, shrinking=True,\n",
      "  tol=0.001, verbose=False)\n",
      "0.189021890219\n",
      "0.185927324092\n"
     ]
    },
    {
     "data": {
      "image/png": "[encoded data removed]",
      "text/plain": [
       "<matplotlib.figure.Figure at 0x7fe234aa1860>"
      ]
     },
     "metadata": {},
     "output_type": "display_data"
    }
   ],
   "source": [
    "plot_data_num = []\n",
    "plot_data_accuracy = []\n",
    "plot_data_accuracy1 = []\n",
    "for num in np.logspace(4, 5, 9):\n",
    "    print(int(num))\n",
    "    a = print_prediction([training_data[0][1:int(num)],training_data[1][1:int(num)]], eval_data, kernel='poly')\n",
    "    plot_data_num.append(int(num))\n",
    "    plot_data_accuracy.append(a[0])\n",
    "    plot_data_accuracy1.append(a[1])\n",
    "\n",
    "plot1 =  plt.bar(np.arange(len(plot_data_accuracy)), plot_data_accuracy, width=0.5, color=\"y\")\n",
    "\n",
    "plot = plt.bar(np.arange(len(plot_data_accuracy1)), plot_data_accuracy1, width=0.5, color=\"r\")\n",
    "plt.legend((plot1[0], plot[0]), ('Training', 'Eval'), loc=3)\n",
    "plt.ylim(ymin=min(plot_data_accuracy1)-0.1)\n",
    "plt.xticks(np.arange(len(plot_data_num))+0.25, plot_data_num)\n",
    "\n",
    "plt.show()"
   ]
  },
  {
   "cell_type": "markdown",
   "metadata": {},
   "source": [
    "As you can see the maximum accuracy is reached between 30k and 40k samples, as the solver is not able to find a good solution for more samples. As such future computations will be made with 42k samples which is slightly higher than the best performing number. However it is possible that some better parameters are found where the Solver converges better.\n",
    "Additional benefit: Computation goes much faster. However a method to include more training data might be beneficial."
   ]
  },
  {
   "cell_type": "markdown",
   "metadata": {},
   "source": [
    "## Basic SVM\n",
    "As you can see the print_prediction function fits the SVM-Model to the training data and prints a very simple evaluation."
   ]
  },
  {
   "cell_type": "code",
   "execution_count": 4,
   "metadata": {
    "collapsed": false
   },
   "outputs": [
    {
     "name": "stderr",
     "output_type": "stream",
     "text": [
      "/usr/lib/python3.5/site-packages/IPython/core/interactiveshell.py:2825: DtypeWarning: Columns (0,1,2,3,4,5,6) have mixed types. Specify dtype option on import or set low_memory=False.\n",
      "  if self.run_code(code, result):\n"
     ]
    },
    {
     "name": "stdout",
     "output_type": "stream",
     "text": [
      "SVC(C=1.0, cache_size=2000, class_weight=None, coef0=0.0,\n",
      "  decision_function_shape=None, degree=3, gamma='auto', kernel='rbf',\n",
      "  max_iter=8000, probability=False, random_state=42, shrinking=True,\n",
      "  tol=0.001, verbose=False)\n",
      "0.690441762727\n",
      "0.676758459481\n"
     ]
    },
    {
     "data": {
      "text/plain": [
       "(0.69044176272652336, 0.67675845948074353)"
      ]
     },
     "execution_count": 4,
     "metadata": {},
     "output_type": "execute_result"
    }
   ],
   "source": [
    "training_data = get_instances_from_csv(DATAPATH, \"train\", numrows=74000)\n",
    "print_prediction(training_data, eval_data)"
   ]
  },
  {
   "cell_type": "markdown",
   "metadata": {},
   "source": [
    "\n",
    "## Lets use different kernels and see how the perform\n",
    "Currently there are 3 Kernels implemented by sklearn that we can test. (Of course we could also implement own kernels later on)"
   ]
  },
  {
   "cell_type": "code",
   "execution_count": 5,
   "metadata": {
    "collapsed": false
   },
   "outputs": [
    {
     "name": "stdout",
     "output_type": "stream",
     "text": [
      "rbf\n",
      "SVC(C=1.0, cache_size=2000, class_weight=None, coef0=0.0,\n",
      "  decision_function_shape=None, degree=3, gamma='auto', kernel='rbf',\n",
      "  max_iter=8000, probability=False, random_state=42, shrinking=True,\n",
      "  tol=0.001, verbose=False)\n",
      "0.690441762727\n",
      "0.676758459481\n",
      "linear\n",
      "SVC(C=1.0, cache_size=2000, class_weight=None, coef0=0.0,\n",
      "  decision_function_shape=None, degree=3, gamma='auto', kernel='linear',\n",
      "  max_iter=8000, probability=False, random_state=42, shrinking=True,\n",
      "  tol=0.001, verbose=False)\n",
      "0.154015594805\n",
      "0.148876860961\n",
      "sigmoid\n",
      "SVC(C=1.0, cache_size=2000, class_weight=None, coef0=0.0,\n",
      "  decision_function_shape=None, degree=3, gamma='auto', kernel='sigmoid',\n",
      "  max_iter=8000, probability=False, random_state=42, shrinking=True,\n",
      "  tol=0.001, verbose=False)\n",
      "0.132312598819\n",
      "0.133501668771\n",
      "poly\n",
      "SVC(C=1.0, cache_size=2000, class_weight=None, coef0=0.0,\n",
      "  decision_function_shape=None, degree=3, gamma='auto', kernel='poly',\n",
      "  max_iter=8000, probability=False, random_state=42, shrinking=True,\n",
      "  tol=0.001, verbose=False)\n",
      "0.254192624225\n",
      "0.25470318379\n"
     ]
    }
   ],
   "source": [
    "for kernel in kernels:\n",
    "    print(kernel)\n",
    "    print_prediction(training_data, eval_data, kernel=kernel)"
   ]
  },
  {
   "cell_type": "markdown",
   "metadata": {},
   "source": [
    "The RBF kernel seems to perform slightly better then the linear kernel. Both are far better then the polynomial kernel."
   ]
  },
  {
   "cell_type": "markdown",
   "metadata": {},
   "source": [
    "## Lets also check, if scaling the data improves the classification performance\n",
    "Luckily sklearn also provides features for scaling data, the standart scaling function from sklearn scales the data in a way that variance == 1 and mean == 0."
   ]
  },
  {
   "cell_type": "code",
   "execution_count": 6,
   "metadata": {
    "collapsed": false
   },
   "outputs": [
    {
     "name": "stdout",
     "output_type": "stream",
     "text": [
      "rbf\n",
      "SVC(C=1.0, cache_size=2000, class_weight=None, coef0=0.0,\n",
      "  decision_function_shape=None, degree=3, gamma='auto', kernel='rbf',\n",
      "  max_iter=8000, probability=False, random_state=42, shrinking=True,\n",
      "  tol=0.001, verbose=False)\n",
      "0.659333234233\n",
      "0.643833047913\n",
      "linear\n",
      "SVC(C=1.0, cache_size=2000, class_weight=None, coef0=0.0,\n",
      "  decision_function_shape=None, degree=3, gamma='auto', kernel='linear',\n",
      "  max_iter=8000, probability=False, random_state=42, shrinking=True,\n",
      "  tol=0.001, verbose=False)\n",
      "0.25061149475\n",
      "0.24806560082\n",
      "sigmoid\n",
      "SVC(C=1.0, cache_size=2000, class_weight=None, coef0=0.0,\n",
      "  decision_function_shape=None, degree=3, gamma='auto', kernel='sigmoid',\n",
      "  max_iter=8000, probability=False, random_state=42, shrinking=True,\n",
      "  tol=0.001, verbose=False)\n",
      "0.132312598819\n",
      "0.133501668771\n",
      "poly\n",
      "SVC(C=1.0, cache_size=2000, class_weight=None, coef0=0.0,\n",
      "  decision_function_shape=None, degree=3, gamma='auto', kernel='poly',\n",
      "  max_iter=8000, probability=False, random_state=42, shrinking=True,\n",
      "  tol=0.001, verbose=False)\n",
      "0.161069744186\n",
      "0.160464505806\n"
     ]
    }
   ],
   "source": [
    "training_data_scaled = [scaler.transform(training_data[0]), training_data[1]]\n",
    "eval_data_scaled = [scaler.transform(eval_data[0]), eval_data[1]]\n",
    "for kernel in kernels:\n",
    "    print(kernel)\n",
    "    print_prediction(training_data_scaled, eval_data_scaled, kernel=kernel)"
   ]
  },
  {
   "cell_type": "markdown",
   "metadata": {
    "collapsed": true
   },
   "source": [
    "## Parameter Variations\n",
    "For faster computing only the best-performing kernels are used here."
   ]
  },
  {
   "cell_type": "code",
   "execution_count": 7,
   "metadata": {
    "collapsed": false
   },
   "outputs": [
    {
     "name": "stdout",
     "output_type": "stream",
     "text": [
      "SVC(C=0.01, cache_size=2000, class_weight=None, coef0=0.0,\n",
      "  decision_function_shape=None, degree=3, gamma='auto', kernel='rbf',\n",
      "  max_iter=8000, probability=False, random_state=42, shrinking=True,\n",
      "  tol=0.001, verbose=False)\n",
      "0.592237732942\n",
      "0.588319853998\n",
      "SVC(C=0.037275937203149402, cache_size=2000, class_weight=None, coef0=0.0,\n",
      "  decision_function_shape=None, degree=3, gamma='auto', kernel='rbf',\n",
      "  max_iter=8000, probability=False, random_state=42, shrinking=True,\n",
      "  tol=0.001, verbose=False)\n",
      "0.610021757051\n",
      "0.606470080876\n",
      "SVC(C=0.13894954943731375, cache_size=2000, class_weight=None, coef0=0.0,\n",
      "  decision_function_shape=None, degree=3, gamma='auto', kernel='rbf',\n",
      "  max_iter=8000, probability=False, random_state=42, shrinking=True,\n",
      "  tol=0.001, verbose=False)\n",
      "0.65040068109\n",
      "0.643733046663\n",
      "SVC(C=0.51794746792312096, cache_size=2000, class_weight=None, coef0=0.0,\n",
      "  decision_function_shape=None, degree=3, gamma='auto', kernel='rbf',\n",
      "  max_iter=8000, probability=False, random_state=42, shrinking=True,\n",
      "  tol=0.001, verbose=False)\n",
      "0.683401127042\n",
      "0.670795884949\n",
      "SVC(C=1.9306977288832496, cache_size=2000, class_weight=None, coef0=0.0,\n",
      "  decision_function_shape=None, degree=3, gamma='auto', kernel='rbf',\n",
      "  max_iter=8000, probability=False, random_state=42, shrinking=True,\n",
      "  tol=0.001, verbose=False)\n",
      "0.699387829565\n",
      "0.680821010263\n",
      "SVC(C=7.1968567300115138, cache_size=2000, class_weight=None, coef0=0.0,\n",
      "  decision_function_shape=None, degree=3, gamma='auto', kernel='rbf',\n",
      "  max_iter=8000, probability=False, random_state=42, shrinking=True,\n",
      "  tol=0.001, verbose=False)\n",
      "0.686333599103\n",
      "0.66392079901\n",
      "SVC(C=26.826957952797247, cache_size=2000, class_weight=None, coef0=0.0,\n",
      "  decision_function_shape=None, degree=3, gamma='auto', kernel='rbf',\n",
      "  max_iter=8000, probability=False, random_state=42, shrinking=True,\n",
      "  tol=0.001, verbose=False)\n",
      "0.627400370275\n",
      "0.611632645408\n",
      "SVC(C=100.0, cache_size=2000, class_weight=None, coef0=0.0,\n",
      "  decision_function_shape=None, degree=3, gamma='auto', kernel='rbf',\n",
      "  max_iter=8000, probability=False, random_state=42, shrinking=True,\n",
      "  tol=0.001, verbose=False)\n",
      "0.572494222895\n",
      "0.558606982587\n"
     ]
    },
    {
     "data": {
      "image/png": "[encoded data removed]",
      "text/plain": [
       "<matplotlib.figure.Figure at 0x7fe239941320>"
      ]
     },
     "metadata": {},
     "output_type": "display_data"
    },
    {
     "name": "stdout",
     "output_type": "stream",
     "text": [
      "SVC(C=0.01, cache_size=2000, class_weight=None, coef0=0.0,\n",
      "  decision_function_shape=None, degree=3, gamma='auto', kernel='poly',\n",
      "  max_iter=8000, probability=False, random_state=42, shrinking=True,\n",
      "  tol=0.001, verbose=False)\n",
      "0.301922998959\n",
      "0.303478793485\n",
      "SVC(C=0.037275937203149402, cache_size=2000, class_weight=None, coef0=0.0,\n",
      "  decision_function_shape=None, degree=3, gamma='auto', kernel='poly',\n",
      "  max_iter=8000, probability=False, random_state=42, shrinking=True,\n",
      "  tol=0.001, verbose=False)\n",
      "0.267800916229\n",
      "0.264890811135\n",
      "SVC(C=0.13894954943731375, cache_size=2000, class_weight=None, coef0=0.0,\n",
      "  decision_function_shape=None, degree=3, gamma='auto', kernel='poly',\n",
      "  max_iter=8000, probability=False, random_state=42, shrinking=True,\n",
      "  tol=0.001, verbose=False)\n",
      "0.15466425222\n",
      "0.153201915024\n",
      "SVC(C=0.51794746792312096, cache_size=2000, class_weight=None, coef0=0.0,\n",
      "  decision_function_shape=None, degree=3, gamma='auto', kernel='poly',\n",
      "  max_iter=8000, probability=False, random_state=42, shrinking=True,\n",
      "  tol=0.001, verbose=False)\n",
      "0.181407856863\n",
      "0.181577269716\n",
      "SVC(C=1.9306977288832496, cache_size=2000, class_weight=None, coef0=0.0,\n",
      "  decision_function_shape=None, degree=3, gamma='auto', kernel='poly',\n",
      "  max_iter=8000, probability=False, random_state=42, shrinking=True,\n",
      "  tol=0.001, verbose=False)\n",
      "0.138339707293\n",
      "0.13903923799\n",
      "SVC(C=7.1968567300115138, cache_size=2000, class_weight=None, coef0=0.0,\n",
      "  decision_function_shape=None, degree=3, gamma='auto', kernel='poly',\n",
      "  max_iter=8000, probability=False, random_state=42, shrinking=True,\n",
      "  tol=0.001, verbose=False)\n",
      "0.17474560467\n",
      "0.170564632058\n",
      "SVC(C=26.826957952797247, cache_size=2000, class_weight=None, coef0=0.0,\n",
      "  decision_function_shape=None, degree=3, gamma='auto', kernel='poly',\n",
      "  max_iter=8000, probability=False, random_state=42, shrinking=True,\n",
      "  tol=0.001, verbose=False)\n",
      "0.180394329653\n",
      "0.176514706434\n",
      "SVC(C=100.0, cache_size=2000, class_weight=None, coef0=0.0,\n",
      "  decision_function_shape=None, degree=3, gamma='auto', kernel='poly',\n",
      "  max_iter=8000, probability=False, random_state=42, shrinking=True,\n",
      "  tol=0.001, verbose=False)\n",
      "0.173867214422\n",
      "0.17442718034\n"
     ]
    },
    {
     "data": {
      "image/png": "[encoded data removed]",
      "text/plain": [
       "<matplotlib.figure.Figure at 0x7fe239503e10>"
      ]
     },
     "metadata": {},
     "output_type": "display_data"
    }
   ],
   "source": [
    "kernels = ['rbf', 'poly']\n",
    "for kernel in kernels:\n",
    "    plot_data_num = []\n",
    "    plot_data_accuracy = []\n",
    "    plot_data_accuracy1 = []\n",
    "    for C in np.logspace(-2, 2, num=8):\n",
    "        a = print_prediction(training_data, eval_data, kernel=kernel, C=C)\n",
    "        plot_data_num.append(\"{0:.3f}\".format(C))\n",
    "        plot_data_accuracy.append(a[0])\n",
    "        plot_data_accuracy1.append(a[1])\n",
    "\n",
    "    plot1 =  plt.bar(np.arange(len(plot_data_accuracy)), plot_data_accuracy, width=0.5, color=\"y\")\n",
    "    plot = plt.bar(np.arange(len(plot_data_accuracy1)), plot_data_accuracy1, width=0.5, color=\"r\")\n",
    "    plt.legend((plot1[0], plot[0]), ('Training', 'Eval'), loc=3)\n",
    "    plt.xticks(np.arange(len(plot_data_num))+0.25, plot_data_num)\n",
    "    plt.title(kernel)\n",
    "    plt.show()"
   ]
  },
  {
   "cell_type": "code",
   "execution_count": 8,
   "metadata": {
    "collapsed": false
   },
   "outputs": [
    {
     "name": "stdout",
     "output_type": "stream",
     "text": [
      "SVC(C=1.0, cache_size=2000, class_weight=None, coef0=0.0,\n",
      "  decision_function_shape=None, degree=3, gamma=0.001, kernel='rbf',\n",
      "  max_iter=8000, probability=False, random_state=42, shrinking=True,\n",
      "  tol=0.001, verbose=False)\n",
      "0.417694833714\n",
      "0.416317703971\n",
      "SVC(C=1.0, cache_size=2000, class_weight=None, coef0=0.0,\n",
      "  decision_function_shape=None, degree=3, gamma=0.0026826957952797246,\n",
      "  kernel='rbf', max_iter=8000, probability=False, random_state=42,\n",
      "  shrinking=True, tol=0.001, verbose=False)\n",
      "0.468019838106\n",
      "0.467618345229\n",
      "SVC(C=1.0, cache_size=2000, class_weight=None, coef0=0.0,\n",
      "  decision_function_shape=None, degree=3, gamma=0.0071968567300115215,\n",
      "  kernel='rbf', max_iter=8000, probability=False, random_state=42,\n",
      "  shrinking=True, tol=0.001, verbose=False)\n",
      "0.526182786254\n",
      "0.523631545394\n",
      "SVC(C=1.0, cache_size=2000, class_weight=None, coef0=0.0,\n",
      "  decision_function_shape=None, degree=3, gamma=0.019306977288832496,\n",
      "  kernel='rbf', max_iter=8000, probability=False, random_state=42,\n",
      "  shrinking=True, tol=0.001, verbose=False)\n",
      "0.570223921945\n",
      "0.568107101339\n",
      "SVC(C=1.0, cache_size=2000, class_weight=None, coef0=0.0,\n",
      "  decision_function_shape=None, degree=3, gamma=0.0517947467923121,\n",
      "  kernel='rbf', max_iter=8000, probability=False, random_state=42,\n",
      "  shrinking=True, tol=0.001, verbose=False)\n",
      "0.606724415195\n",
      "0.600582507281\n",
      "SVC(C=1.0, cache_size=2000, class_weight=None, coef0=0.0,\n",
      "  decision_function_shape=None, degree=3, gamma=0.13894954943731375,\n",
      "  kernel='rbf', max_iter=8000, probability=False, random_state=42,\n",
      "  shrinking=True, tol=0.001, verbose=False)\n",
      "0.682374086136\n",
      "0.670383379792\n",
      "SVC(C=1.0, cache_size=2000, class_weight=None, coef0=0.0,\n",
      "  decision_function_shape=None, degree=3, gamma=0.37275937203149379,\n",
      "  kernel='rbf', max_iter=8000, probability=False, random_state=42,\n",
      "  shrinking=True, tol=0.001, verbose=False)\n",
      "0.723617886728\n",
      "0.68863360792\n",
      "SVC(C=1.0, cache_size=2000, class_weight=None, coef0=0.0,\n",
      "  decision_function_shape=None, degree=3, gamma=1.0, kernel='rbf',\n",
      "  max_iter=8000, probability=False, random_state=42, shrinking=True,\n",
      "  tol=0.001, verbose=False)\n",
      "0.778861876512\n",
      "0.692908661358\n"
     ]
    },
    {
     "data": {
      "image/png": "[encoded data removed]",
      "text/plain": [
       "<matplotlib.figure.Figure at 0x7fe239d53f28>"
      ]
     },
     "metadata": {},
     "output_type": "display_data"
    },
    {
     "name": "stdout",
     "output_type": "stream",
     "text": [
      "SVC(C=1.0, cache_size=2000, class_weight=None, coef0=0.0,\n",
      "  decision_function_shape=None, degree=3, gamma=0.001, kernel='poly',\n",
      "  max_iter=8000, probability=False, random_state=42, shrinking=True,\n",
      "  tol=0.001, verbose=False)\n",
      "0.283990324194\n",
      "0.283453543169\n",
      "SVC(C=1.0, cache_size=2000, class_weight=None, coef0=0.0,\n",
      "  decision_function_shape=None, degree=3, gamma=0.0026826957952797246,\n",
      "  kernel='poly', max_iter=8000, probability=False, random_state=42,\n",
      "  shrinking=True, tol=0.001, verbose=False)\n",
      "0.296422924634\n",
      "0.294716183952\n",
      "SVC(C=1.0, cache_size=2000, class_weight=None, coef0=0.0,\n",
      "  decision_function_shape=None, degree=3, gamma=0.0071968567300115215,\n",
      "  kernel='poly', max_iter=8000, probability=False, random_state=42,\n",
      "  shrinking=True, tol=0.001, verbose=False)\n",
      "0.294193164772\n",
      "0.293516168952\n",
      "SVC(C=1.0, cache_size=2000, class_weight=None, coef0=0.0,\n",
      "  decision_function_shape=None, degree=3, gamma=0.019306977288832496,\n",
      "  kernel='poly', max_iter=8000, probability=False, random_state=42,\n",
      "  shrinking=True, tol=0.001, verbose=False)\n",
      "0.309733915323\n",
      "0.308691358642\n",
      "SVC(C=1.0, cache_size=2000, class_weight=None, coef0=0.0,\n",
      "  decision_function_shape=None, degree=3, gamma=0.0517947467923121,\n",
      "  kernel='poly', max_iter=8000, probability=False, random_state=42,\n",
      "  shrinking=True, tol=0.001, verbose=False)\n",
      "0.293639103231\n",
      "0.290978637233\n",
      "SVC(C=1.0, cache_size=2000, class_weight=None, coef0=0.0,\n",
      "  decision_function_shape=None, degree=3, gamma=0.13894954943731375,\n",
      "  kernel='poly', max_iter=8000, probability=False, random_state=42,\n",
      "  shrinking=True, tol=0.001, verbose=False)\n",
      "0.180340274869\n",
      "0.177814722684\n",
      "SVC(C=1.0, cache_size=2000, class_weight=None, coef0=0.0,\n",
      "  decision_function_shape=None, degree=3, gamma=0.37275937203149379,\n",
      "  kernel='poly', max_iter=8000, probability=False, random_state=42,\n",
      "  shrinking=True, tol=0.001, verbose=False)\n",
      "0.13824511142\n",
      "0.137651720647\n",
      "SVC(C=1.0, cache_size=2000, class_weight=None, coef0=0.0,\n",
      "  decision_function_shape=None, degree=3, gamma=1.0, kernel='poly',\n",
      "  max_iter=8000, probability=False, random_state=42, shrinking=True,\n",
      "  tol=0.001, verbose=False)\n",
      "0.16297517534\n",
      "0.16285203565\n"
     ]
    },
    {
     "data": {
      "image/png": "[encoded data removed]",
      "text/plain": [
       "<matplotlib.figure.Figure at 0x7fe239dfb438>"
      ]
     },
     "metadata": {},
     "output_type": "display_data"
    }
   ],
   "source": [
    "\n",
    "for kernel in ['rbf','poly']:\n",
    "    plot_data_num = []\n",
    "    plot_data_accuracy = []\n",
    "    plot_data_accuracy1 = []\n",
    "    for gamma in np.logspace(-3, 0, num=8):\n",
    "        a = print_prediction(training_data, eval_data, kernel=kernel, gamma=gamma)\n",
    "        plot_data_num.append(\"{0:.3f}\".format(gamma))\n",
    "        plot_data_accuracy.append(a[0])\n",
    "        plot_data_accuracy1.append(a[1])\n",
    "\n",
    "    plot1 =  plt.bar(np.arange(len(plot_data_accuracy)), plot_data_accuracy, width=0.5, color=\"y\")\n",
    "    plot = plt.bar(np.arange(len(plot_data_accuracy1)), plot_data_accuracy1, width=0.5, color=\"r\")\n",
    "    plt.legend((plot1[0], plot[0]), ('Training', 'Eval'), loc=3)\n",
    "    plt.ylim(ymin=min(plot_data_accuracy1)-0.1)\n",
    "    plt.xticks(np.arange(len(plot_data_num))+0.25, plot_data_num)\n",
    "    plt.title(kernel)\n",
    "    plt.show()\n"
   ]
  },
  {
   "cell_type": "code",
   "execution_count": 9,
   "metadata": {
    "collapsed": false
   },
   "outputs": [
    {
     "name": "stdout",
     "output_type": "stream",
     "text": [
      "SVC(C=1.0, cache_size=2000, class_weight=None, coef0=0.0,\n",
      "  decision_function_shape='ovo', degree=3, gamma='auto', kernel='rbf',\n",
      "  max_iter=8000, probability=False, random_state=42, shrinking=True,\n",
      "  tol=0.001, verbose=False)\n",
      "0.690441762727\n",
      "0.676758459481\n",
      "SVC(C=1.0, cache_size=2000, class_weight=None, coef0=0.0,\n",
      "  decision_function_shape='ovr', degree=3, gamma='auto', kernel='rbf',\n",
      "  max_iter=8000, probability=False, random_state=42, shrinking=True,\n",
      "  tol=0.001, verbose=False)\n",
      "0.690441762727\n",
      "0.676758459481\n",
      "SVC(C=1.0, cache_size=2000, class_weight=None, coef0=0.0,\n",
      "  decision_function_shape='ovo', degree=3, gamma='auto', kernel='poly',\n",
      "  max_iter=8000, probability=False, random_state=42, shrinking=True,\n",
      "  tol=0.001, verbose=False)\n",
      "0.254192624225\n",
      "0.25470318379\n",
      "SVC(C=1.0, cache_size=2000, class_weight=None, coef0=0.0,\n",
      "  decision_function_shape='ovr', degree=3, gamma='auto', kernel='poly',\n",
      "  max_iter=8000, probability=False, random_state=42, shrinking=True,\n",
      "  tol=0.001, verbose=False)\n",
      "0.254192624225\n",
      "0.25470318379\n"
     ]
    }
   ],
   "source": [
    "\n",
    "for kernel in kernels:\n",
    "    for decision_function_shape in ['ovo', 'ovr']:\n",
    "        print_prediction(training_data, eval_data, kernel=kernel, decision_function_shape=decision_function_shape)\n"
   ]
  },
  {
   "cell_type": "markdown",
   "metadata": {},
   "source": [
    "* ovo and ovr strategies have nearly no impact on classification accuracy"
   ]
  },
  {
   "cell_type": "code",
   "execution_count": 10,
   "metadata": {
    "collapsed": false
   },
   "outputs": [
    {
     "name": "stdout",
     "output_type": "stream",
     "text": [
      "SVC(C=1.0, cache_size=2000, class_weight=None, coef0=0.0,\n",
      "  decision_function_shape=None, degree=1, gamma=1.0, kernel='poly',\n",
      "  max_iter=8000, probability=False, random_state=42, shrinking=True,\n",
      "  tol=0.001, verbose=False)\n",
      "0.25061149475\n",
      "0.24806560082\n",
      "SVC(C=1.0, cache_size=2000, class_weight=None, coef0=0.0,\n",
      "  decision_function_shape=None, degree=2, gamma=1.0, kernel='poly',\n",
      "  max_iter=8000, probability=False, random_state=42, shrinking=True,\n",
      "  tol=0.001, verbose=False)\n",
      "0.120109731213\n",
      "0.122114026425\n",
      "SVC(C=1.0, cache_size=2000, class_weight=None, coef0=0.0,\n",
      "  decision_function_shape=None, degree=3, gamma=1.0, kernel='poly',\n",
      "  max_iter=8000, probability=False, random_state=42, shrinking=True,\n",
      "  tol=0.001, verbose=False)\n",
      "0.152569629319\n",
      "0.153776922212\n",
      "SVC(C=1.0, cache_size=2000, class_weight=None, coef0=0.0,\n",
      "  decision_function_shape=None, degree=4, gamma=1.0, kernel='poly',\n",
      "  max_iter=8000, probability=False, random_state=42, shrinking=True,\n",
      "  tol=0.001, verbose=False)\n",
      "0.124501682455\n",
      "0.125851573145\n"
     ]
    },
    {
     "data": {
      "image/png": "[encoded data removed]",
      "text/plain": [
       "<matplotlib.figure.Figure at 0x7fe238fc6c18>"
      ]
     },
     "metadata": {},
     "output_type": "display_data"
    }
   ],
   "source": [
    "\n",
    "plot_data_num = []\n",
    "plot_data_accuracy = []\n",
    "plot_data_accuracy1 = []\n",
    "for degree in range(1,5):\n",
    "    a = print_prediction(training_data_scaled, eval_data_scaled, kernel='poly', degree=degree, gamma=1.0)\n",
    "    plot_data_num.append(degree)\n",
    "    plot_data_accuracy.append(a[0])\n",
    "    plot_data_accuracy1.append(a[1])\n",
    "\n",
    "plot1 =  plt.bar(np.arange(len(plot_data_accuracy)), plot_data_accuracy, width=0.5, color=\"y\")\n",
    "plot = plt.bar(np.arange(len(plot_data_accuracy1)), plot_data_accuracy1, width=0.5, color=\"r\")\n",
    "plt.legend((plot1[0], plot[0]), ('Training', 'Eval'), loc=3)\n",
    "plt.xticks(np.arange(len(plot_data_num))+0.25, plot_data_num)\n",
    "plt.show()"
   ]
  },
  {
   "cell_type": "code",
   "execution_count": 11,
   "metadata": {
    "collapsed": false
   },
   "outputs": [
    {
     "name": "stdout",
     "output_type": "stream",
     "text": [
      "SVC(C=0.1, cache_size=2000, class_weight=None, coef0=0.0,\n",
      "  decision_function_shape=None, degree=1, gamma=0.3, kernel='poly',\n",
      "  max_iter=8000, probability=False, random_state=42, shrinking=True,\n",
      "  tol=0.001, verbose=False)\n",
      "0.289747158745\n",
      "0.288391104889\n",
      "SVC(C=0.1, cache_size=2000, class_weight=None, coef0=0.0,\n",
      "  decision_function_shape=None, degree=2, gamma=0.3, kernel='poly',\n",
      "  max_iter=8000, probability=False, random_state=42, shrinking=True,\n",
      "  tol=0.001, verbose=False)\n",
      "0.336558602143\n",
      "0.335041688021\n",
      "SVC(C=0.1, cache_size=2000, class_weight=None, coef0=0.0,\n",
      "  decision_function_shape=None, degree=3, gamma=0.3, kernel='poly',\n",
      "  max_iter=8000, probability=False, random_state=42, shrinking=True,\n",
      "  tol=0.001, verbose=False)\n",
      "0.16524547629\n",
      "0.165502068776\n",
      "SVC(C=0.1, cache_size=2000, class_weight=None, coef0=0.0,\n",
      "  decision_function_shape=None, degree=4, gamma=0.3, kernel='poly',\n",
      "  max_iter=8000, probability=False, random_state=42, shrinking=True,\n",
      "  tol=0.001, verbose=False)\n",
      "0.157610237976\n",
      "0.157614470181\n"
     ]
    },
    {
     "data": {
      "image/png": "[encoded data removed]",
      "text/plain": [
       "<matplotlib.figure.Figure at 0x7fe239db47f0>"
      ]
     },
     "metadata": {},
     "output_type": "display_data"
    }
   ],
   "source": [
    "\n",
    "plot_data_num = []\n",
    "plot_data_accuracy = []\n",
    "plot_data_accuracy1 = []\n",
    "for degree in range(1,5):\n",
    "    a = print_prediction(training_data_scaled, eval_data_scaled, kernel='poly', degree=degree, gamma=0.3, C=0.1)\n",
    "    plot_data_num.append(degree)\n",
    "    plot_data_accuracy.append(a[0])\n",
    "    plot_data_accuracy1.append(a[1])\n",
    "\n",
    "plot1 =  plt.bar(np.arange(len(plot_data_accuracy)), plot_data_accuracy, width=0.5, color=\"y\")\n",
    "plot = plt.bar(np.arange(len(plot_data_accuracy1)), plot_data_accuracy1, width=0.5, color=\"r\")\n",
    "plt.legend((plot1[0], plot[0]), ('Training', 'Eval'), loc=3)\n",
    "plt.xticks(np.arange(len(plot_data_num))+0.25, plot_data_num)\n",
    "plt.show()"
   ]
  },
  {
   "cell_type": "markdown",
   "metadata": {},
   "source": [
    "# Lets search for the right combination of gamma and C\n",
    "## iteratively change C and gamma to improve accuracy"
   ]
  },
  {
   "cell_type": "code",
   "execution_count": 12,
   "metadata": {
    "collapsed": false
   },
   "outputs": [
    {
     "name": "stdout",
     "output_type": "stream",
     "text": [
      "SVC(C=2.0, cache_size=2000, class_weight=None, coef0=0.0,\n",
      "  decision_function_shape=None, degree=3, gamma=0.10000000000000001,\n",
      "  kernel='rbf', max_iter=8000, probability=False, random_state=42,\n",
      "  shrinking=True, tol=0.001, verbose=False)\n",
      "0.67286044406\n",
      "0.660508256353\n",
      "SVC(C=2.0, cache_size=2000, class_weight=None, coef0=0.0,\n",
      "  decision_function_shape=None, degree=3, gamma=0.20000000000000001,\n",
      "  kernel='rbf', max_iter=8000, probability=False, random_state=42,\n",
      "  shrinking=True, tol=0.001, verbose=False)\n",
      "0.706469006338\n",
      "0.683258540732\n",
      "SVC(C=2.0, cache_size=2000, class_weight=None, coef0=0.0,\n",
      "  decision_function_shape=None, degree=3, gamma=0.30000000000000004,\n",
      "  kernel='rbf', max_iter=8000, probability=False, random_state=42,\n",
      "  shrinking=True, tol=0.001, verbose=False)\n",
      "0.724631413938\n",
      "0.687608595107\n",
      "SVC(C=2.0, cache_size=2000, class_weight=None, coef0=0.0,\n",
      "  decision_function_shape=None, degree=3, gamma=0.40000000000000002,\n",
      "  kernel='rbf', max_iter=8000, probability=False, random_state=42,\n",
      "  shrinking=True, tol=0.001, verbose=False)\n",
      "0.740145137096\n",
      "0.689546119326\n",
      "SVC(C=2.0, cache_size=2000, class_weight=None, coef0=0.0,\n",
      "  decision_function_shape=None, degree=3, gamma=0.5, kernel='rbf',\n",
      "  max_iter=8000, probability=False, random_state=42, shrinking=True,\n",
      "  tol=0.001, verbose=False)\n",
      "0.75225340883\n",
      "0.691308641358\n",
      "SVC(C=2.0, cache_size=2000, class_weight=None, coef0=0.0,\n",
      "  decision_function_shape=None, degree=3, gamma=0.59999999999999998,\n",
      "  kernel='rbf', max_iter=8000, probability=False, random_state=42,\n",
      "  shrinking=True, tol=0.001, verbose=False)\n",
      "0.76301031095\n",
      "0.690146126827\n",
      "SVC(C=2.0, cache_size=2000, class_weight=None, coef0=0.0,\n",
      "  decision_function_shape=None, degree=3, gamma=0.70000000000000007,\n",
      "  kernel='rbf', max_iter=8000, probability=False, random_state=42,\n",
      "  shrinking=True, tol=0.001, verbose=False)\n",
      "0.774429384181\n",
      "0.690846135577\n",
      "SVC(C=2.0, cache_size=2000, class_weight=None, coef0=0.0,\n",
      "  decision_function_shape=None, degree=3, gamma=0.80000000000000004,\n",
      "  kernel='rbf', max_iter=8000, probability=False, random_state=42,\n",
      "  shrinking=True, tol=0.001, verbose=False)\n",
      "0.784726820633\n",
      "0.688658608233\n",
      "SVC(C=2.0, cache_size=2000, class_weight=None, coef0=0.0,\n",
      "  decision_function_shape=None, degree=3, gamma=0.90000000000000002,\n",
      "  kernel='rbf', max_iter=8000, probability=False, random_state=42,\n",
      "  shrinking=True, tol=0.001, verbose=False)\n",
      "0.795281017311\n",
      "0.688896111201\n",
      "SVC(C=2.0, cache_size=2000, class_weight=None, coef0=0.0,\n",
      "  decision_function_shape=None, degree=3, gamma=1.0, kernel='rbf',\n",
      "  max_iter=8000, probability=False, random_state=42, shrinking=True,\n",
      "  tol=0.001, verbose=False)\n",
      "0.80380815957\n",
      "0.688208602608\n"
     ]
    },
    {
     "data": {
      "image/png": "[encoded data removed]",
      "text/plain": [
       "<matplotlib.figure.Figure at 0x7fe2393d1828>"
      ]
     },
     "metadata": {},
     "output_type": "display_data"
    }
   ],
   "source": [
    "plot_data_num = []\n",
    "plot_data_accuracy = []\n",
    "plot_data_accuracy1 = []\n",
    "for gamma in np.linspace(0.1, 1.0, num=10):\n",
    "    a = print_prediction(training_data, eval_data, kernel='rbf', gamma=gamma, C=2.0)\n",
    "    plot_data_num.append(\"{0:.1f}\".format(gamma))\n",
    "    plot_data_accuracy.append(a[0])\n",
    "    plot_data_accuracy1.append(a[1])\n",
    "\n",
    "plot1 =  plt.bar(np.arange(len(plot_data_accuracy)), plot_data_accuracy, width=0.5, color=\"y\")\n",
    "plot = plt.bar(np.arange(len(plot_data_accuracy1)), plot_data_accuracy1, width=0.5, color=\"r\")\n",
    "plt.legend((plot1[0], plot[0]), ('Training', 'Eval'), loc=3)\n",
    "plt.xticks(np.arange(len(plot_data_num))+0.25, plot_data_num)\n",
    "plt.show()"
   ]
  },
  {
   "cell_type": "code",
   "execution_count": 15,
   "metadata": {
    "collapsed": false
   },
   "outputs": [
    {
     "name": "stdout",
     "output_type": "stream",
     "text": [
      "SVC(C=0.10000000000000001, cache_size=2000, class_weight=None, coef0=0.0,\n",
      "  decision_function_shape=None, degree=3, gamma=0.3, kernel='rbf',\n",
      "  max_iter=8000, probability=False, random_state=42, shrinking=True,\n",
      "  tol=0.001, verbose=False)\n",
      "0.677346991176\n",
      "0.662558281979\n",
      "SVC(C=0.33750000000000002, cache_size=2000, class_weight=None, coef0=0.0,\n",
      "  decision_function_shape=None, degree=3, gamma=0.3, kernel='rbf',\n",
      "  max_iter=8000, probability=False, random_state=42, shrinking=True,\n",
      "  tol=0.001, verbose=False)\n",
      "0.700820281355\n",
      "0.679820997762\n",
      "SVC(C=0.57499999999999996, cache_size=2000, class_weight=None, coef0=0.0,\n",
      "  decision_function_shape=None, degree=3, gamma=0.3, kernel='rbf',\n",
      "  max_iter=8000, probability=False, random_state=42, shrinking=True,\n",
      "  tol=0.001, verbose=False)\n",
      "0.707455506155\n",
      "0.683371042138\n",
      "SVC(C=0.81249999999999989, cache_size=2000, class_weight=None, coef0=0.0,\n",
      "  decision_function_shape=None, degree=3, gamma=0.3, kernel='rbf',\n",
      "  max_iter=8000, probability=False, random_state=42, shrinking=True,\n",
      "  tol=0.001, verbose=False)\n",
      "0.711617724564\n",
      "0.685696071201\n",
      "SVC(C=1.05, cache_size=2000, class_weight=None, coef0=0.0,\n",
      "  decision_function_shape=None, degree=3, gamma=0.3, kernel='rbf',\n",
      "  max_iter=8000, probability=False, random_state=42, shrinking=True,\n",
      "  tol=0.001, verbose=False)\n",
      "0.714685333586\n",
      "0.686883586045\n",
      "SVC(C=1.2875000000000001, cache_size=2000, class_weight=None, coef0=0.0,\n",
      "  decision_function_shape=None, degree=3, gamma=0.3, kernel='rbf',\n",
      "  max_iter=8000, probability=False, random_state=42, shrinking=True,\n",
      "  tol=0.001, verbose=False)\n",
      "0.718090785011\n",
      "0.685821072763\n",
      "SVC(C=1.5249999999999999, cache_size=2000, class_weight=None, coef0=0.0,\n",
      "  decision_function_shape=None, degree=3, gamma=0.3, kernel='rbf',\n",
      "  max_iter=8000, probability=False, random_state=42, shrinking=True,\n",
      "  tol=0.001, verbose=False)\n",
      "0.721185421425\n",
      "0.687871098389\n",
      "SVC(C=1.7625, cache_size=2000, class_weight=None, coef0=0.0,\n",
      "  decision_function_shape=None, degree=3, gamma=0.3, kernel='rbf',\n",
      "  max_iter=8000, probability=False, random_state=42, shrinking=True,\n",
      "  tol=0.001, verbose=False)\n",
      "0.723496263463\n",
      "0.68713358917\n",
      "SVC(C=2.0, cache_size=2000, class_weight=None, coef0=0.0,\n",
      "  decision_function_shape=None, degree=3, gamma=0.3, kernel='rbf',\n",
      "  max_iter=8000, probability=False, random_state=42, shrinking=True,\n",
      "  tol=0.001, verbose=False)\n",
      "0.724631413938\n",
      "0.687608595107\n"
     ]
    },
    {
     "data": {
      "image/png": "[encoded data removed]",
      "text/plain": [
       "<matplotlib.figure.Figure at 0x7fe2394c6198>"
      ]
     },
     "metadata": {},
     "output_type": "display_data"
    }
   ],
   "source": [
    "plot_data_num = []\n",
    "plot_data_accuracy = []\n",
    "plot_data_accuracy1 = []\n",
    "for C in np.linspace(0.1, 2.0, num=9):\n",
    "    a = print_prediction(training_data, eval_data, kernel='rbf', gamma=0.3, C=C)\n",
    "    plot_data_num.append(\"{0:.1f}\".format(C))\n",
    "    plot_data_accuracy.append(a[0])\n",
    "    plot_data_accuracy1.append(a[1])\n",
    "\n",
    "plot1 =  plt.bar(np.arange(len(plot_data_accuracy)), plot_data_accuracy, width=0.5, color=\"y\")\n",
    "plot = plt.bar(np.arange(len(plot_data_accuracy1)), plot_data_accuracy1, width=0.5, color=\"r\")\n",
    "plt.legend((plot1[0], plot[0]), ('Training', 'Eval'), loc=3)\n",
    "plt.ylim(ymin=min(plot_data_accuracy1)-0.1)\n",
    "plt.xticks(np.arange(len(plot_data_num))+0.25, plot_data_num)\n",
    "plt.show()"
   ]
  },
  {
   "cell_type": "code",
   "execution_count": 16,
   "metadata": {
    "collapsed": false
   },
   "outputs": [
    {
     "name": "stdout",
     "output_type": "stream",
     "text": [
      "SVC(C=1.3, cache_size=2000, class_weight=None, coef0=0.0,\n",
      "  decision_function_shape=None, degree=3, gamma=0.3, kernel='rbf',\n",
      "  max_iter=8000, probability=False, random_state=42, shrinking=True,\n",
      "  tol=0.001, verbose=False)\n",
      "0.718171867187\n",
      "0.686858585732\n"
     ]
    },
    {
     "data": {
      "text/plain": [
       "(0.71817186718739445, 0.68685858573232161)"
      ]
     },
     "execution_count": 16,
     "metadata": {},
     "output_type": "execute_result"
    }
   ],
   "source": [
    "print_prediction(training_data, eval_data, C=1.05, gamma=0.3)"
   ]
  },
  {
   "cell_type": "code",
   "execution_count": null,
   "metadata": {
    "collapsed": true
   },
   "outputs": [],
   "source": []
  }
 ],
 "metadata": {
  "kernelspec": {
   "display_name": "Python 3",
   "language": "python",
   "name": "python3"
  },
  "language_info": {
   "codemirror_mode": {
    "name": "ipython",
    "version": 3
   },
   "file_extension": ".py",
   "mimetype": "text/x-python",
   "name": "python",
   "nbconvert_exporter": "python",
   "pygments_lexer": "ipython3",
   "version": "3.5.1"
  }
 },
 "nbformat": 4,
 "nbformat_minor": 0
}
