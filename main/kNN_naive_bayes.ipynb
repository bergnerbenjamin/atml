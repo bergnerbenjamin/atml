{
 "cells": [
  {
   "cell_type": "markdown",
   "metadata": {},
   "source": [
    "# This is how to get the data in a fast way"
   ]
  },
  {
   "cell_type": "code",
   "execution_count": null,
   "metadata": {
    "collapsed": true
   },
   "outputs": [],
   "source": [
    "import numpy as np\n",
    "import pandas as pd\n",
    "import csv\n",
    "\n",
    "def get_instances_from_csv(datapath, train_or_eval):\n",
    "\t\"\"\"\n",
    "\tInput: datapath: datapath to be read from\n",
    "\tOutput: list with first element np array with features, second element np array with respective class labels\n",
    "\t\"\"\"\n",
    "\tfeatures = np.zeros(6)\n",
    "\tclass_labels = np.zeros(1)\n",
    "\t\n",
    "\tdf = pd.read_csv(datapath, sep=',',header=None)[1:]\n",
    "\tdf = df.sample(frac=1).reset_index(drop=True)\n",
    "\tif train_or_eval == \"train\":\n",
    "\t\tfeatures = df.values[1:500000, 0:6]\n",
    "\t\tclass_labels = df.values[1:500000, 6]\n",
    "\telif train_or_eval == \"eval\":\n",
    "\t\tfeatures = df.values[500000:, 0:6]\n",
    "\t\tclass_labels = df.values[500000:, 6]\n",
    "\telse:\n",
    "\t\tfeatures = df.values[1:, 0:6]\n",
    "\t\tclass_labels = df.values[1:, 6]\n",
    "\t\n",
    "\treturn [features.astype(np.float), class_labels.astype(np.int)]"
   ]
  },
  {
   "cell_type": "markdown",
   "metadata": {},
   "source": [
    "# Getting Training/Test Set for Crossvalidation"
   ]
  },
  {
   "cell_type": "code",
   "execution_count": null,
   "metadata": {
    "collapsed": true
   },
   "outputs": [],
   "source": [
    "def get_cross_validation_file_indices(cross_validation_runs):\n",
    "\tinit = [e for e in range(10)]\n",
    "\ttraining_eval = []\n",
    "\tfor i in range(cross_validation_runs):\n",
    "\t\tinit_temp = init[:]\n",
    "\t\teval = init_temp[i]\n",
    "\t\tdel init_temp[i]\n",
    "\t\ttraining = init_temp\n",
    "\t\ttraining_eval.append([training, eval])\n",
    "\treturn training_eval\n",
    "\t\n",
    "def get_training_eval_set(training_eval_index):\n",
    "\t\"\"\"\n",
    "\tInput: Number of files for training set\n",
    "\tOutput: all training instances\n",
    "\t\"\"\"\n",
    "\tinstances = [np.array([], dtype=np.float32), np.array([], dtype=np.float32)]\n",
    "\tfor i in training_eval_index[0]:\n",
    "\t\tDATAPATH = \"../sub_datasets/subset_\"+str(i)+\".csv\"\n",
    "\t\tfile_instances = get_instances_from_csv(DATAPATH, \"all\", False)\t\n",
    "\t\tif instances[0].size == 0 and instances[1].size == 0:\n",
    "\t\t\tinstances_train = file_instances\n",
    "\t\telse:\n",
    "\t\t\tinstances_train = [np.vstack((instances[0], file_instances[0])), np.append(instances[1], file_instances[1])]\n",
    "\t\n",
    "\tDATAPATH = \"../sub_datasets/subset_\"+str(training_eval_index[1])+\".csv\"\n",
    "\tinstances_eval = get_instances_from_csv(DATAPATH, \"all\", False)\n",
    "\t\n",
    "\treturn [instances_train, instances_eval]"
   ]
  },
  {
   "cell_type": "markdown",
   "metadata": {},
   "source": [
    "# KNN"
   ]
  },
  {
   "cell_type": "code",
   "execution_count": 6,
   "metadata": {
    "collapsed": false
   },
   "outputs": [
    {
     "name": "stdout",
     "output_type": "stream",
     "text": [
      "mean_accuracy:  0.690443354922\n",
      "confusion_matrix:  [[ 443651    6098   21499  102999   37575   30536  642358]\n",
      " [   1378 1040850     792    1547     619     253 1045439]\n",
      " [   9045    1053 1007032    6758    2692    2112 1028692]\n",
      " [ 156727    6524   27178  754470  139315  124798 1209012]\n",
      " [ 104552    3895   19061  268989  298120   99577  794194]\n",
      " [  99558    2606   16898  271332  119209  214536  724139]\n",
      " [ 814911 1061026 1092460 1406095  597530  471812 5443834]]\n"
     ]
    },
    {
     "name": "stderr",
     "output_type": "stream",
     "text": [
      "C:\\Users\\Benjamin\\Anaconda3\\lib\\site-packages\\IPython\\core\\interactiveshell.py:2885: DtypeWarning: Columns (0,1,2,3,4,5,6) have mixed types. Specify dtype option on import or set low_memory=False.\n",
      "  exec(code_obj, self.user_global_ns, self.user_ns)\n"
     ]
    }
   ],
   "source": [
    "import warnings\n",
    "from sklearn.utils import ConvergenceWarning\n",
    "warnings.simplefilter('ignore', ConvergenceWarning)\n",
    "from sklearn.neighbors import KNeighborsClassifier\n",
    "from sklearn import tree\n",
    "from startEvaluation import *\n",
    "from getData import *\n",
    "\n",
    "cross_validation_runs = 10\n",
    "xNN = 3\n",
    "\n",
    "training_eval_index = get_cross_validation_file_indices(cross_validation_runs)\n",
    "\n",
    "mean_accuracy = 0\n",
    "confusion_matrix = 0\n",
    "for i in range(cross_validation_runs):\n",
    "\ttraining_eval_instances = get_training_eval_set(training_eval_index[i])\n",
    "\ttraining_instances = training_eval_instances[0]\n",
    "\tx = training_instances[0]\n",
    "\ty = training_instances[1]\n",
    "\t\n",
    "\tmodel = KNeighborsClassifier(n_neighbors=xNN)\n",
    "\tmodel.fit(x, y)\n",
    "\n",
    "\teval_instances = training_eval_instances[1]\n",
    "\teval_x = eval_instances[0]\n",
    "\teval_y = eval_instances[1]\n",
    "\tpredicted = model.predict(eval_x)\n",
    "\n",
    "\ttest_eval = evaluation(eval_y.ravel(), predicted)\n",
    "\tmean_accuracy += test_eval.get_accuracy()\n",
    "\tconfusion_matrix += test_eval.get_conf_matrix()\n",
    "mean_accuracy /= cross_validation_runs\n",
    "print(\"mean_accuracy: \", mean_accuracy)\n",
    "print(\"confusion_matrix: \", confusion_matrix)"
   ]
  },
  {
   "cell_type": "markdown",
   "metadata": {},
   "source": [
    "# Naive Bayes"
   ]
  },
  {
   "cell_type": "code",
   "execution_count": 4,
   "metadata": {
    "collapsed": false
   },
   "outputs": [
    {
     "name": "stdout",
     "output_type": "stream",
     "text": [
      "mean_accuracy:  0.467830646393\n",
      "confusion_matrix:  [[ 174116   55085  128905  210416   51633   22203  642358]\n",
      " [  25166  692779  283823     210    5132   38331 1045441]\n",
      " [  24501   74560  896430   24020    5968    3211 1028690]\n",
      " [  70017  191574  237291  514707  121558   73865 1209012]\n",
      " [  41800   64163  150101  313976  165689   58463  794192]\n",
      " [  50802   77630  115821  275309  101505  103074  724141]\n",
      " [ 386402 1155791 1812371 1338638  451485  299147 5443834]]\n"
     ]
    },
    {
     "name": "stderr",
     "output_type": "stream",
     "text": [
      "C:\\Users\\Benjamin\\Anaconda3\\lib\\site-packages\\IPython\\core\\interactiveshell.py:2885: DtypeWarning: Columns (0,1,2,3,4,5,6) have mixed types. Specify dtype option on import or set low_memory=False.\n",
      "  exec(code_obj, self.user_global_ns, self.user_ns)\n"
     ]
    }
   ],
   "source": [
    "import warnings\n",
    "from sklearn.utils import ConvergenceWarning\n",
    "warnings.simplefilter('ignore', ConvergenceWarning)\n",
    "from sklearn.naive_bayes import GaussianNB\n",
    "from startEvaluation import *\n",
    "from getData import *\n",
    "\n",
    "def onlineNaiveBayes(batch_size):\t\n",
    "\tj = 0\n",
    "\twhile True:\n",
    "\t\tif j == 0:\n",
    "\t\t\tmodel.partial_fit(x[j:j+batch_size], y[j:j+batch_size], y)\n",
    "\t\telse:\n",
    "\t\t\ttry:\n",
    "\t\t\t\tmodel.partial_fit(x[j:j+batch_size], y[j:j+batch_size])\n",
    "\t\t\texcept:\n",
    "\t\t\t\tbreak\n",
    "\t\tj += batch_size\n",
    "\n",
    "def offlineNaiveBayes():\n",
    "\tmodel.fit(x, y.ravel())\n",
    "\n",
    "cross_validation_runs = 10\n",
    "batch_size = 100\n",
    "\n",
    "training_eval_index = get_cross_validation_file_indices(cross_validation_runs)\n",
    "\n",
    "mean_accuracy = 0\n",
    "confusion_matrix = 0\n",
    "for i in range(cross_validation_runs):\n",
    "\ttraining_eval_instances = get_training_eval_set(training_eval_index[i])\n",
    "\ttraining_instances = training_eval_instances[0]\n",
    "\tx = training_instances[0]\n",
    "\ty = training_instances[1]\n",
    "\n",
    "\tmodel = GaussianNB()\n",
    "\t#onlineNaiveBayes(batch_size)\n",
    "\tofflineNaiveBayes()\n",
    "\n",
    "\teval_instances = training_eval_instances[1]\n",
    "\teval_x = eval_instances[0]\n",
    "\teval_y = eval_instances[1]\n",
    "\tpredicted = model.predict(eval_x)\n",
    "\n",
    "\ttest_eval = evaluation(eval_y.ravel(), predicted)\n",
    "\tmean_accuracy += test_eval.get_accuracy()\n",
    "\tconfusion_matrix += test_eval.get_conf_matrix()\n",
    "mean_accuracy /= cross_validation_runs\n",
    "print(\"mean_accuracy: \", mean_accuracy)\n",
    "print(\"confusion_matrix: \", confusion_matrix)"
   ]
  }
 ],
 "metadata": {
  "kernelspec": {
   "display_name": "Python 3",
   "language": "python",
   "name": "python3"
  },
  "language_info": {
   "codemirror_mode": {
    "name": "ipython",
    "version": 3
   },
   "file_extension": ".py",
   "mimetype": "text/x-python",
   "name": "python",
   "nbconvert_exporter": "python",
   "pygments_lexer": "ipython3",
   "version": "3.5.1"
  }
 },
 "nbformat": 4,
 "nbformat_minor": 0
}
