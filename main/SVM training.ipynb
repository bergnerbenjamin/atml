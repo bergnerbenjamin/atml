{
 "cells": [
  {
   "cell_type": "markdown",
   "metadata": {},
   "source": [
    "# Some startup code\n",
    "\n",
    "import packages needed & load dataset"
   ]
  },
  {
   "cell_type": "code",
   "execution_count": 2,
   "metadata": {
    "collapsed": true
   },
   "outputs": [],
   "source": [
    "#!/usr/bin/python\n",
    "\n",
    "from sklearn import svm, datasets # datasets for testing\n",
    "import numpy as np\n",
    "from loaddata import get_instances_from_csv\n",
    "from startEvaluation import evaluation\n",
    "\n",
    "DATAPATH = \"../sub_datasets/subset_0.csv\"\n",
    "\n",
    "data = get_instances_from_csv(DATAPATH, numrows=10000)\n",
    "\n",
    "\n",
    "def print_prediction_with_svc_params(*args, **kwargs):\n",
    "\n",
    "    svc = svm.SVC(*args, **kwargs).fit(data[0], data[1])\n",
    "    ev = evaluation(data[1], svc.predict(data[0]))\n",
    "    ev.print_eval()"
   ]
  },
  {
   "cell_type": "code",
   "execution_count": 3,
   "metadata": {
    "collapsed": false
   },
   "outputs": [
    {
     "name": "stderr",
     "output_type": "stream",
     "text": [
      "/home/sebastian/projects/uni/atiml/team/main/startEvaluation.py:60: VisibleDeprecationWarning: using a non-integer number instead of an integer will result in an error in the future\n",
      "  test = self.conf_matrix[index_groundtruth][index_found_class]       + 1\n",
      "/home/sebastian/projects/uni/atiml/team/main/startEvaluation.py:62: VisibleDeprecationWarning: using a non-integer number instead of an integer will result in an error in the future\n",
      "  self.conf_matrix[index_groundtruth][index_found_class]       = test\n",
      "/home/sebastian/projects/uni/atiml/team/main/startEvaluation.py:63: VisibleDeprecationWarning: using a non-integer number instead of an integer will result in an error in the future\n",
      "  self.conf_matrix[index_groundtruth][self.numberOfClasses]    = self.conf_matrix[index_groundtruth][self.numberOfClasses]    + 1\n",
      "/home/sebastian/projects/uni/atiml/team/main/startEvaluation.py:64: VisibleDeprecationWarning: using a non-integer number instead of an integer will result in an error in the future\n",
      "  self.conf_matrix[self.numberOfClasses][index_found_class]    = self.conf_matrix[self.numberOfClasses][index_found_class]    + 1\n"
     ]
    },
    {
     "name": "stdout",
     "output_type": "stream",
     "text": [
      "general values:\n",
      "\n",
      "number of Classes:             6\n",
      "number of Instances:           10002\n",
      "overall true classifications:  8857\n",
      "overall false classifications: 1145\n",
      "\n",
      "\n",
      "additional values:\n",
      "\n",
      "true positives:  8857\n",
      "true negative:   8857\n",
      "false positives: 1145\n",
      "false negatives: 1145\n",
      "\n",
      "\n",
      "quality values:\n",
      "\n",
      "sensitivity: 0.885522895421\n",
      "specificy:   0.885522895421\n",
      "accuracy:    0.885522895421\n",
      "f1_score:    0.885522895421\n",
      "\n",
      "\n",
      "overall confusion matrix:\n",
      "\n",
      "gt\\est\test_0\test_1\test_2\test_3\test_4\test_5\test_all\n",
      "gt_0\t1059\t0\t8\t41\t24\t19\t1151\t\n",
      "gt_1\t0\t1961\t0\t0\t0\t0\t1961\t\n",
      "gt_2\t9\t0\t1909\t1\t0\t0\t1919\t\n",
      "gt_3\t89\t0\t23\t1897\t118\t119\t2246\t\n",
      "gt_4\t54\t0\t3\t119\t1271\t42\t1489\t\n",
      "gt_5\t88\t3\t4\t264\t117\t760\t1236\t\n",
      "gt_all\t1299\t1964\t1947\t2322\t1530\t940\t10002\t\n",
      "\n",
      "\n",
      "overall confusion matrix with probability values:\n",
      "\n",
      "gt\\est\test_0\test_1\test_2\test_3\test_4\test_5\test_all\n",
      "gt_0\t0.106\t0.000\t0.001\t0.004\t0.002\t0.002\t0.115\t\n",
      "gt_1\t0.000\t0.196\t0.000\t0.000\t0.000\t0.000\t0.196\t\n",
      "gt_2\t0.001\t0.000\t0.191\t0.000\t0.000\t0.000\t0.192\t\n",
      "gt_3\t0.009\t0.000\t0.002\t0.190\t0.012\t0.012\t0.225\t\n",
      "gt_4\t0.005\t0.000\t0.000\t0.012\t0.127\t0.004\t0.149\t\n",
      "gt_5\t0.009\t0.000\t0.000\t0.026\t0.012\t0.076\t0.124\t\n",
      "gt_all\t0.130\t0.196\t0.195\t0.232\t0.153\t0.094\t1.000\t\n",
      "\n",
      "\n"
     ]
    }
   ],
   "source": [
    "print_prediction_with_svc_params()"
   ]
  },
  {
   "cell_type": "markdown",
   "metadata": {},
   "source": [
    "# Just the default settings\n",
    "\n",
    "As you can see, just with the default setting we get a pretty good result."
   ]
  }
 ],
 "metadata": {
  "kernelspec": {
   "display_name": "Python 3",
   "language": "python",
   "name": "python3"
  },
  "language_info": {
   "codemirror_mode": {
    "name": "ipython",
    "version": 3
   },
   "file_extension": ".py",
   "mimetype": "text/x-python",
   "name": "python",
   "nbconvert_exporter": "python",
   "pygments_lexer": "ipython3",
   "version": "3.5.1"
  }
 },
 "nbformat": 4,
 "nbformat_minor": 0
}
