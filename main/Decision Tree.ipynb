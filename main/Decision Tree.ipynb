{
 "cells": [
  {
   "cell_type": "markdown",
   "metadata": {},
   "source": [
    "# Some startup code\n",
    "\n",
    "import packages needed & load dataset"
   ]
  },
  {
   "cell_type": "code",
   "execution_count": 17,
   "metadata": {
    "collapsed": false
   },
   "outputs": [
    {
     "name": "stderr",
     "output_type": "stream",
     "text": [
      "/usr/lib/python3.5/site-packages/IPython/core/interactiveshell.py:2825: DtypeWarning: Columns (0,1,2,3,4,5,6) have mixed types. Specify dtype option on import or set low_memory=False.\n",
      "  if self.run_code(code, result):\n"
     ]
    },
    {
     "name": "stdout",
     "output_type": "stream",
     "text": [
      "training data  : 199999 rows\n",
      "evaluation data: 199999 rows\n",
      "StandardScaler(copy=True, with_mean=True, with_std=True)\n"
     ]
    }
   ],
   "source": [
    "from sklearn import tree, preprocessing\n",
    "import numpy as np\n",
    "from loaddata import get_instances_from_csv\n",
    "from startEvaluation import evaluation\n",
    "\n",
    "DATAPATH = \"../sub_datasets/subset_0.csv\"\n",
    "DATAPATH1 = \"../sub_datasets/subset_1.csv\"\n",
    "RANDOM_SEED=42\n",
    "TRAINROWS = 200000\n",
    "EVALROWS = 200000\n",
    "\n",
    "training_data = get_instances_from_csv(DATAPATH, \"train\", numrows=TRAINROWS)\n",
    "eval_data = get_instances_from_csv(DATAPATH1,\"train\", numrows=EVALROWS)\n",
    "print(\"training data  : %s rows\"%training_data[0].shape[0])\n",
    "print(\"evaluation data: %s rows\"%eval_data[0].shape[0])\n",
    "\n",
    "kernels = ['rbf', 'linear', 'sigmoid', 'poly']\n",
    "\n",
    "scaler = preprocessing.StandardScaler()\n",
    "scaler.fit(training_data[0])\n",
    "print(scaler)\n",
    "\n",
    "def print_prediction(training_data, eval_data, *args, **kwargs):\n",
    "\n",
    "    print(\"start training\")\n",
    "    clf = tree.DecisionTreeClassifier(random_state=42, *args, **kwargs)\n",
    "    clf = clf.fit(training_data[0], training_data[1])\n",
    "    print(\"finished training svm %s\"%clf)\n",
    "    evt = evaluation(training_data[1], clf.predict(training_data[0]))\n",
    "    print(\"accuracy on traning data:\")\n",
    "    evt.print_only_accuracy()\n",
    "    eve = evaluation(eval_data[1], clf.predict(eval_data[0]))\n",
    "    print(\"accuracy on evaluation data:\")\n",
    "    eve.print_only_accuracy()\n"
   ]
  },
  {
   "cell_type": "markdown",
   "metadata": {},
   "source": [
    "# Simple performance test\n",
    "Just calling the evaluation-function with default parameters."
   ]
  },
  {
   "cell_type": "code",
   "execution_count": 18,
   "metadata": {
    "collapsed": false
   },
   "outputs": [
    {
     "name": "stdout",
     "output_type": "stream",
     "text": [
      "start training\n",
      "finished training svm DecisionTreeClassifier(class_weight=None, criterion='gini', max_depth=None,\n",
      "            max_features=None, max_leaf_nodes=None, min_samples_leaf=1,\n",
      "            min_samples_split=2, min_weight_fraction_leaf=0.0,\n",
      "            presort=False, random_state=42, splitter='best')\n",
      "accuracy on traning data:\n",
      "0.888303679363\n",
      "accuracy on evaluation data:\n",
      "0.879228266099\n"
     ]
    }
   ],
   "source": [
    "print_prediction(training_data, eval_data)"
   ]
  },
  {
   "cell_type": "code",
   "execution_count": 19,
   "metadata": {
    "collapsed": false
   },
   "outputs": [
    {
     "name": "stdout",
     "output_type": "stream",
     "text": [
      "start training\n",
      "finished training svm DecisionTreeClassifier(class_weight=None, criterion='gini', max_depth=None,\n",
      "            max_features=None, max_leaf_nodes=None, min_samples_leaf=1,\n",
      "            min_samples_split=2, min_weight_fraction_leaf=0.0,\n",
      "            presort=False, random_state=42, splitter='best')\n",
      "accuracy on traning data:\n",
      "0.885421690732\n",
      "accuracy on evaluation data:\n",
      "0.877372268827\n"
     ]
    }
   ],
   "source": [
    "print_prediction(training_data, eval_data)"
   ]
  },
  {
   "cell_type": "code",
   "execution_count": null,
   "metadata": {
    "collapsed": true
   },
   "outputs": [],
   "source": []
  }
 ],
 "metadata": {
  "kernelspec": {
   "display_name": "Python 3",
   "language": "python",
   "name": "python3"
  },
  "language_info": {
   "codemirror_mode": {
    "name": "ipython",
    "version": 3
   },
   "file_extension": ".py",
   "mimetype": "text/x-python",
   "name": "python",
   "nbconvert_exporter": "python",
   "pygments_lexer": "ipython3",
   "version": "3.5.1"
  }
 },
 "nbformat": 4,
 "nbformat_minor": 0
}
