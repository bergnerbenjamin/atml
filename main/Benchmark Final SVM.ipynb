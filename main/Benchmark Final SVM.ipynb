{
 "cells": [
  {
   "cell_type": "code",
   "execution_count": 5,
   "metadata": {
    "collapsed": false
   },
   "outputs": [
    {
     "name": "stderr",
     "output_type": "stream",
     "text": [
      "/usr/lib/python3.5/site-packages/IPython/core/interactiveshell.py:2885: DtypeWarning: Columns (0,1,2,3,4,5,6) have mixed types. Specify dtype option on import or set low_memory=False.\n",
      "  exec(code_obj, self.user_global_ns, self.user_ns)\n"
     ]
    },
    {
     "name": "stdout",
     "output_type": "stream",
     "text": [
      "general values:\n",
      "\n",
      "number of Classes:             6\n",
      "number of Instances:           42000\n",
      "overall true classifications:  37094\n",
      "overall false classifications: 4906\n",
      "\n",
      "\n",
      "additional values:\n",
      "\n",
      "true positives:  37094\n",
      "true negative:   37094\n",
      "false positives: 4906\n",
      "false negatives: 4906\n",
      "\n",
      "\n",
      "quality values:\n",
      "\n",
      "sensitivity: 0.88319047619\n",
      "specificy:   0.88319047619\n",
      "accuracy:    0.88319047619\n",
      "f1_score:    0.88319047619\n",
      "\n",
      "\n",
      "overall confusion matrix:\n",
      "\n",
      "gt\\est\test_0\test_1\test_2\test_3\test_4\test_5\test_all\n",
      "gt_0\t4439\t0\t89\t130\t69\t97\t4824\t\n",
      "gt_1\t0\t8042\t0\t0\t0\t0\t8042\t\n",
      "gt_2\t24\t0\t7937\t13\t0\t0\t7974\t\n",
      "gt_3\t325\t0\t55\t7844\t496\t621\t9341\t\n",
      "gt_4\t144\t0\t3\t475\t5333\t250\t6205\t\n",
      "gt_5\t346\t3\t40\t1291\t435\t3499\t5614\t\n",
      "gt_all\t5278\t8045\t8124\t9753\t6333\t4467\t42000\t\n",
      "\n",
      "\n",
      "overall confusion matrix with probability values:\n",
      "\n",
      "gt\\est\test_0\test_1\test_2\test_3\test_4\test_5\test_all\n",
      "gt_0\t0.106\t0.000\t0.002\t0.003\t0.002\t0.002\t0.115\t\n",
      "gt_1\t0.000\t0.191\t0.000\t0.000\t0.000\t0.000\t0.191\t\n",
      "gt_2\t0.001\t0.000\t0.189\t0.000\t0.000\t0.000\t0.190\t\n",
      "gt_3\t0.008\t0.000\t0.001\t0.187\t0.012\t0.015\t0.222\t\n",
      "gt_4\t0.003\t0.000\t0.000\t0.011\t0.127\t0.006\t0.148\t\n",
      "gt_5\t0.008\t0.000\t0.001\t0.031\t0.010\t0.083\t0.134\t\n",
      "gt_all\t0.126\t0.192\t0.193\t0.232\t0.151\t0.106\t1.000\t\n",
      "\n",
      "\n"
     ]
    },
    {
     "name": "stderr",
     "output_type": "stream",
     "text": [
      "/usr/lib/python3.5/site-packages/IPython/core/interactiveshell.py:2825: DtypeWarning: Columns (0,1,2,3,4,5,6) have mixed types. Specify dtype option on import or set low_memory=False.\n",
      "  if self.run_code(code, result):\n"
     ]
    },
    {
     "name": "stdout",
     "output_type": "stream",
     "text": [
      "general values:\n",
      "\n",
      "number of Classes:             6\n",
      "number of Instances:           100000\n",
      "overall true classifications:  20856\n",
      "overall false classifications: 79144\n",
      "\n",
      "\n",
      "additional values:\n",
      "\n",
      "true positives:  20856\n",
      "true negative:   20856\n",
      "false positives: 79144\n",
      "false negatives: 79144\n",
      "\n",
      "\n",
      "quality values:\n",
      "\n",
      "sensitivity: 0.20856\n",
      "specificy:   0.20856\n",
      "accuracy:    0.20856\n",
      "f1_score:    0.20856\n",
      "\n",
      "\n",
      "overall confusion matrix:\n",
      "\n",
      "gt\\est\test_0\test_1\test_2\test_3\test_4\test_5\test_all\n",
      "gt_0\t1549\t214\t13\t994\t1383\t7786\t11939\t\n",
      "gt_1\t1\t3003\t0\t1\t1\t16185\t19191\t\n",
      "gt_2\t5240\t25\t880\t39\t458\t12294\t18936\t\n",
      "gt_3\t2477\t101\t207\t5677\t3291\t10260\t22013\t\n",
      "gt_4\t2075\t6\t189\t3738\t2480\t6091\t14579\t\n",
      "gt_5\t1185\t7\t105\t3259\t1519\t7267\t13342\t\n",
      "gt_all\t12527\t3356\t1394\t13708\t9132\t59883\t100000\t\n",
      "\n",
      "\n",
      "overall confusion matrix with probability values:\n",
      "\n",
      "gt\\est\test_0\test_1\test_2\test_3\test_4\test_5\test_all\n",
      "gt_0\t0.015\t0.002\t0.000\t0.010\t0.014\t0.078\t0.119\t\n",
      "gt_1\t0.000\t0.030\t0.000\t0.000\t0.000\t0.162\t0.192\t\n",
      "gt_2\t0.052\t0.000\t0.009\t0.000\t0.005\t0.123\t0.189\t\n",
      "gt_3\t0.025\t0.001\t0.002\t0.057\t0.033\t0.103\t0.220\t\n",
      "gt_4\t0.021\t0.000\t0.002\t0.037\t0.025\t0.061\t0.146\t\n",
      "gt_5\t0.012\t0.000\t0.001\t0.033\t0.015\t0.073\t0.133\t\n",
      "gt_all\t0.125\t0.034\t0.014\t0.137\t0.091\t0.599\t1.000\t\n",
      "\n",
      "\n"
     ]
    }
   ],
   "source": [
    "import warnings\n",
    "from sklearn.utils import ConvergenceWarning\n",
    "warnings.simplefilter('ignore', ConvergenceWarning)\n",
    "\n",
    "import numpy as np\n",
    "from sklearn import svm\n",
    "from getData import get_training_set, get_instances_from_csv\n",
    "from startEvaluation import evaluation\n",
    "\n",
    "training_data = get_training_set(9, silent=True)\n",
    "\n",
    "max_training = 42000\n",
    "svc = svm.SVC(random_state=42, cache_size=2000, max_iter=4000, kernel='rbf')\n",
    "svc = svc.fit(training_data[0][0:max_training], training_data[1][0:max_training])\n",
    "ev = evaluation(training_data[1][0:max_training], svc.predict(training_data[0][0:max_training]))\n",
    "ev.print_eval()\n",
    "\n",
    "\n",
    "eval_data = get_instances_from_csv(\"../sub_datasets/subset_9.csv\", \"all\", False, silent=True)\n",
    "ev = evaluation(eval_data[1][100000:200000], svc.predict(eval_data[0][100000:200000]))\n",
    "ev.print_eval()\n"
   ]
  },
  {
   "cell_type": "code",
   "execution_count": null,
   "metadata": {
    "collapsed": true
   },
   "outputs": [],
   "source": []
  }
 ],
 "metadata": {
  "kernelspec": {
   "display_name": "Python 3",
   "language": "python",
   "name": "python3"
  },
  "language_info": {
   "codemirror_mode": {
    "name": "ipython",
    "version": 3
   },
   "file_extension": ".py",
   "mimetype": "text/x-python",
   "name": "python",
   "nbconvert_exporter": "python",
   "pygments_lexer": "ipython3",
   "version": "3.5.1"
  }
 },
 "nbformat": 4,
 "nbformat_minor": 0
}
