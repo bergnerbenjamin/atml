{
 "cells": [
  {
   "cell_type": "code",
   "execution_count": 1,
   "metadata": {
    "collapsed": false
   },
   "outputs": [
    {
     "name": "stderr",
     "output_type": "stream",
     "text": [
      "/usr/lib/python3.5/site-packages/IPython/core/interactiveshell.py:2885: DtypeWarning: Columns (0,1,2,3,4,5,6) have mixed types. Specify dtype option on import or set low_memory=False.\n",
      "  exec(code_obj, self.user_global_ns, self.user_ns)\n",
      "/usr/lib/python3.5/site-packages/IPython/core/interactiveshell.py:2825: DtypeWarning: Columns (0,1,2,3,4,5,6) have mixed types. Specify dtype option on import or set low_memory=False.\n",
      "  if self.run_code(code, result):\n"
     ]
    },
    {
     "name": "stdout",
     "output_type": "stream",
     "text": [
      "general values:\n",
      "\n",
      "number of Classes:             6\n",
      "number of Instances:           545060\n",
      "overall true classifications:  393971\n",
      "overall false classifications: 151089\n",
      "\n",
      "\n",
      "additional values:\n",
      "\n",
      "true positives:  393971\n",
      "true negative:   393971\n",
      "false positives: 151089\n",
      "false negatives: 151089\n",
      "\n",
      "\n",
      "quality values:\n",
      "\n",
      "sensitivity: 0.722802994166\n",
      "specificy:   0.722802994166\n",
      "accuracy:    0.722802994166\n",
      "f1_score:    0.722802994166\n",
      "\n",
      "\n",
      "overall confusion matrix:\n",
      "\n",
      "gt\\est\test_0\test_1\test_2\test_3\test_4\test_5\test_all\n",
      "gt_0\t45465\t310\t1214\t9403\t4590\t3544\t64526\t\n",
      "gt_1\t229\t103667\t61\t189\t78\t29\t104253\t\n",
      "gt_2\t889\t89\t101101\t781\t354\t201\t103415\t\n",
      "gt_3\t10571\t336\t1776\t79542\t15598\t12747\t120570\t\n",
      "gt_4\t7226\t254\t1119\t21995\t37425\t11652\t79671\t\n",
      "gt_5\t6988\t175\t999\t22793\t14899\t26771\t72625\t\n",
      "gt_all\t71368\t104831\t106270\t134703\t72944\t54944\t545060\t\n",
      "\n",
      "\n",
      "overall confusion matrix with probability values:\n",
      "\n",
      "gt\\est\test_0\test_1\test_2\test_3\test_4\test_5\test_all\n",
      "gt_0\t0.083\t0.001\t0.002\t0.017\t0.008\t0.007\t0.118\t\n",
      "gt_1\t0.000\t0.190\t0.000\t0.000\t0.000\t0.000\t0.191\t\n",
      "gt_2\t0.002\t0.000\t0.185\t0.001\t0.001\t0.000\t0.190\t\n",
      "gt_3\t0.019\t0.001\t0.003\t0.146\t0.029\t0.023\t0.221\t\n",
      "gt_4\t0.013\t0.000\t0.002\t0.040\t0.069\t0.021\t0.146\t\n",
      "gt_5\t0.013\t0.000\t0.002\t0.042\t0.027\t0.049\t0.133\t\n",
      "gt_all\t0.131\t0.192\t0.195\t0.247\t0.134\t0.101\t1.000\t\n",
      "\n",
      "\n"
     ]
    }
   ],
   "source": [
    "import numpy as np\n",
    "from sklearn import tree\n",
    "from getData import get_training_set, get_instances_from_csv\n",
    "from startEvaluation import evaluation\n",
    "\n",
    "training_data = get_training_set(9, silent=True)\n",
    "\n",
    "\n",
    "clf = tree.DecisionTreeClassifier(random_state=42, min_samples_split=80, min_samples_leaf=20)\n",
    "clf = clf.fit(training_data[0], training_data[1])\n",
    "\n",
    "eval_data = get_instances_from_csv(\"../sub_datasets/subset_9.csv\", \"all\", False, silent=True)\n",
    "ev = evaluation(eval_data[1], clf.predict(eval_data[0]))\n",
    "ev.print_eval()\n",
    "    "
   ]
  }
 ],
 "metadata": {
  "kernelspec": {
   "display_name": "Python 3",
   "language": "python",
   "name": "python3"
  },
  "language_info": {
   "codemirror_mode": {
    "name": "ipython",
    "version": 3
   },
   "file_extension": ".py",
   "mimetype": "text/x-python",
   "name": "python",
   "nbconvert_exporter": "python",
   "pygments_lexer": "ipython3",
   "version": "3.5.1"
  }
 },
 "nbformat": 4,
 "nbformat_minor": 0
}
