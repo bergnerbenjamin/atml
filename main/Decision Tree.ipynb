{
 "cells": [
  {
   "cell_type": "markdown",
   "metadata": {},
   "source": [
    "# Some startup code\n",
    "\n",
    "import packages needed & load dataset"
   ]
  },
  {
   "cell_type": "code",
   "execution_count": 1,
   "metadata": {
    "collapsed": false
   },
   "outputs": [
    {
     "name": "stderr",
     "output_type": "stream",
     "text": [
      "/usr/lib/python3.5/site-packages/IPython/core/interactiveshell.py:2825: DtypeWarning: Columns (0,1,2,3,4,5,6) have mixed types. Specify dtype option on import or set low_memory=False.\n",
      "  if self.run_code(code, result):\n"
     ]
    },
    {
     "name": "stdout",
     "output_type": "stream",
     "text": [
      "training data  : 399999 rows\n",
      "evaluation data: 399999 rows\n",
      "StandardScaler(copy=True, with_mean=True, with_std=True)\n"
     ]
    }
   ],
   "source": [
    "from sklearn import tree, preprocessing\n",
    "import numpy as np\n",
    "from loaddata import get_instances_from_csv\n",
    "from startEvaluation import evaluation\n",
    "from matplotlib import pyplot as plt\n",
    "%matplotlib inline\n",
    "DATAPATH = \"../sub_datasets/subset_0.csv\"\n",
    "DATAPATH1 = \"../sub_datasets/subset_1.csv\"\n",
    "RANDOM_SEED=42\n",
    "TRAINROWS = 400000\n",
    "EVALROWS = 400000\n",
    "\n",
    "training_data = get_instances_from_csv(DATAPATH, \"train\", numrows=TRAINROWS)\n",
    "eval_data = get_instances_from_csv(DATAPATH1,\"train\", numrows=EVALROWS)\n",
    "print(\"training data  : %s rows\"%training_data[0].shape[0])\n",
    "print(\"evaluation data: %s rows\"%eval_data[0].shape[0])\n",
    "\n",
    "kernels = ['rbf', 'linear', 'sigmoid', 'poly']\n",
    "\n",
    "scaler = preprocessing.StandardScaler()\n",
    "scaler.fit(training_data[0])\n",
    "print(scaler)\n",
    "\n",
    "def print_prediction(training_data, eval_data, *args, **kwargs):\n",
    "\n",
    "    #print(\"start training\")\n",
    "    clf = tree.DecisionTreeClassifier(random_state=42, *args, **kwargs)\n",
    "    clf = clf.fit(training_data[0], training_data[1])\n",
    "    #print(\"finished training svm %s\"%clf)\n",
    "    evt = evaluation(training_data[1], clf.predict(training_data[0]))\n",
    "    #print(\"accuracy on traning data:\")\n",
    "    a1 = evt.print_only_accuracy()\n",
    "    eve = evaluation(eval_data[1], clf.predict(eval_data[0]))\n",
    "    #print(\"accuracy on evaluation data:\")\n",
    "    a2 = eve.print_only_accuracy()\n",
    "    return (a1, a2)\n"
   ]
  },
  {
   "cell_type": "markdown",
   "metadata": {},
   "source": [
    "# Simple performance test\n",
    "Just calling the evaluation-function with default parameters."
   ]
  },
  {
   "cell_type": "code",
   "execution_count": 2,
   "metadata": {
    "collapsed": false
   },
   "outputs": [
    {
     "name": "stdout",
     "output_type": "stream",
     "text": [
      "1.0\n",
      "0.683494208736\n"
     ]
    },
    {
     "data": {
      "text/plain": [
       "(1.0, 0.6834942087355218)"
      ]
     },
     "execution_count": 2,
     "metadata": {},
     "output_type": "execute_result"
    }
   ],
   "source": [
    "print_prediction(training_data, eval_data)"
   ]
  },
  {
   "cell_type": "markdown",
   "metadata": {},
   "source": [
    "# Counteracting overfitting\n",
    "The accuracy on the training data is a clear sign of overfitting. One method to get a more gernal model is to limit the minimal number of training samples that are gathered in each leaf node before a node is split."
   ]
  },
  {
   "cell_type": "code",
   "execution_count": 4,
   "metadata": {
    "collapsed": false
   },
   "outputs": [
    {
     "name": "stdout",
     "output_type": "stream",
     "text": [
      "1.0\n",
      "0.683494208736\n",
      "0.935472338681\n",
      "0.688971722429\n",
      "0.872137180343\n",
      "0.695321738304\n",
      "0.80889202223\n",
      "0.705514263786\n",
      "0.770934427336\n",
      "0.710061775154\n",
      "0.743219358048\n",
      "0.711144277861\n",
      "0.72235180588\n",
      "0.705921764804\n",
      "0.704479261198\n",
      "0.695409238523\n",
      "0.683044207611\n",
      "0.678201695504\n",
      "0.658701646754\n",
      "0.655266638167\n"
     ]
    },
    {
     "data": {
      "image/png": "[encoded data removed]",
      "text/plain": [
       "<matplotlib.figure.Figure at 0x7fbd29fc7eb8>"
      ]
     },
     "metadata": {},
     "output_type": "display_data"
    }
   ],
   "source": [
    "# try to use more samples per leaf\n",
    "plot_data_num = []\n",
    "plot_data_accuracy = []\n",
    "plot_data_accuracy1 = []\n",
    "for num in np.logspace(0, 3, 10):\n",
    "    a = print_prediction(training_data, eval_data, min_samples_leaf=num)\n",
    "    plot_data_num.append(int(num))\n",
    "    plot_data_accuracy.append(a[0])\n",
    "    plot_data_accuracy1.append(a[1])\n",
    "\n",
    "plot1 =  plt.bar(np.arange(len(plot_data_accuracy)), plot_data_accuracy, width=0.5, color=\"y\")\n",
    "\n",
    "plot = plt.bar(np.arange(len(plot_data_accuracy1)), plot_data_accuracy1, width=0.5, color=\"r\")\n",
    "plt.legend((plot1[0], plot[0]), ('Training', 'Eval'))\n",
    "plt.ylim(ymin=.6)\n",
    "plt.xticks(np.arange(len(plot_data_num))+0.5, plot_data_num)\n",
    "\n",
    "plt.show()"
   ]
  },
  {
   "cell_type": "markdown",
   "metadata": {
    "collapsed": true
   },
   "source": [
    "As you can see the overall accuracy on the training data is 1 if no leaf-pruning is done, which is a clear sign of overfitting.\n",
    "By using more values in each leaf nodes of the decision tree overfitting is reduced and the accuracy on the training data is rising as the learned model is more general."
   ]
  },
  {
   "cell_type": "markdown",
   "metadata": {},
   "source": [
    "Similarly, we can define a number of samples that need to be gathered before the node is split, further generalizing our model. As we keep applying the first technique there is not a great effect, but you can see that training-error gets closer to the evaluation-error, showing us that a more general model is found."
   ]
  },
  {
   "cell_type": "code",
   "execution_count": 11,
   "metadata": {
    "collapsed": false
   },
   "outputs": [
    {
     "name": "stdout",
     "output_type": "stream",
     "text": [
      "0.773169432924\n",
      "0.709974274936\n",
      "0.773169432924\n",
      "0.709974274936\n",
      "0.773169432924\n",
      "0.709974274936\n",
      "0.770449426124\n",
      "0.710551776379\n",
      "0.757509393773\n",
      "0.712421781054\n",
      "0.744501861255\n",
      "0.712121780304\n",
      "0.732341830855\n",
      "0.709004272511\n",
      "0.721796804492\n",
      "0.706006765017\n",
      "0.709869274673\n",
      "0.698641746604\n",
      "0.693844234611\n",
      "0.686539216348\n"
     ]
    },
    {
     "data": {
      "image/png": "[encoded data removed]",
      "text/plain": [
       "<matplotlib.figure.Figure at 0x7fbd2b291a90>"
      ]
     },
     "metadata": {},
     "output_type": "display_data"
    }
   ],
   "source": [
    "# try to use more samples per leaf\n",
    "plot_data_num = []\n",
    "plot_data_accuracy = []\n",
    "plot_data_accuracy1 = []\n",
    "for num in np.logspace(1, 3, 10):\n",
    "    a = print_prediction(training_data, eval_data, min_samples_split=num, min_samples_leaf=20)\n",
    "    plot_data_num.append(int(num))\n",
    "    plot_data_accuracy.append(a[0])\n",
    "    plot_data_accuracy1.append(a[1])\n",
    "\n",
    "plot1 =  plt.bar(np.arange(len(plot_data_accuracy)), plot_data_accuracy, width=0.5, color=\"y\")\n",
    "\n",
    "plot = plt.bar(np.arange(len(plot_data_accuracy1)), plot_data_accuracy1, width=0.5, color=\"r\")\n",
    "plt.legend((plot1[0], plot[0]), ('Training', 'Eval'))\n",
    "plt.ylim(ymin=.6)\n",
    "plt.xticks(np.arange(len(plot_data_num))+0.5, plot_data_num)\n",
    "\n",
    "plt.show()"
   ]
  },
  {
   "cell_type": "markdown",
   "metadata": {},
   "source": [
    "Let's check if the value used for min_samples_leaf is still reasonable."
   ]
  },
  {
   "cell_type": "code",
   "execution_count": 7,
   "metadata": {
    "collapsed": false
   },
   "outputs": [
    {
     "name": "stdout",
     "output_type": "stream",
     "text": [
      "0.790579476449\n",
      "0.708624271561\n",
      "0.788624471561\n",
      "0.709666774167\n",
      "0.78533196333\n",
      "0.710181775454\n",
      "0.777136942842\n",
      "0.711034277586\n",
      "0.767484418711\n",
      "0.711034277586\n",
      "0.743219358048\n",
      "0.711144277861\n",
      "0.72235180588\n",
      "0.705921764804\n",
      "0.704479261198\n",
      "0.695409238523\n",
      "0.683044207611\n",
      "0.678201695504\n",
      "0.658701646754\n",
      "0.655266638167\n"
     ]
    },
    {
     "data": {
      "image/png": "[encoded data removed]",
      "text/plain": [
       "<matplotlib.figure.Figure at 0x7fbd2b3126a0>"
      ]
     },
     "metadata": {},
     "output_type": "display_data"
    }
   ],
   "source": [
    "# try to use more samples per leaf\n",
    "plot_data_num = []\n",
    "plot_data_accuracy = []\n",
    "plot_data_accuracy1 = []\n",
    "for num in np.logspace(0, 3, 10):\n",
    "    a = print_prediction(training_data, eval_data, min_samples_leaf=num, min_samples_split=50)\n",
    "    plot_data_num.append(int(num))\n",
    "    plot_data_accuracy.append(a[0])\n",
    "    plot_data_accuracy1.append(a[1])\n",
    "\n",
    "plot1 =  plt.bar(np.arange(len(plot_data_accuracy)), plot_data_accuracy, width=0.5, color=\"y\")\n",
    "\n",
    "plot = plt.bar(np.arange(len(plot_data_accuracy1)), plot_data_accuracy1, width=0.5, color=\"r\")\n",
    "plt.legend((plot1[0], plot[0]), ('Training', 'Eval'))\n",
    "plt.ylim(ymin=.6)\n",
    "plt.xticks(np.arange(len(plot_data_num))+0.5, plot_data_num)\n",
    "\n",
    "plt.show()"
   ]
  },
  {
   "cell_type": "code",
   "execution_count": 8,
   "metadata": {
    "collapsed": false
   },
   "outputs": [
    {
     "name": "stdout",
     "output_type": "stream",
     "text": [
      "0.726319315798\n",
      "0.694231735579\n",
      "0.726319315798\n",
      "0.694231735579\n",
      "0.685379213448\n",
      "0.653616634042\n",
      "0.726319315798\n",
      "0.694231735579\n",
      "0.740541851355\n",
      "0.708101770254\n",
      "0.74291185728\n",
      "0.709019272548\n",
      "0.745716864292\n",
      "0.710754276886\n",
      "0.747754369386\n",
      "0.712069280173\n",
      "0.747754369386\n",
      "0.712069280173\n"
     ]
    },
    {
     "data": {
      "image/png": "[encoded data removed]",
      "text/plain": [
       "<matplotlib.figure.Figure at 0x7fbd2b2259e8>"
      ]
     },
     "metadata": {},
     "output_type": "display_data"
    }
   ],
   "source": [
    "plot_data_num = []\n",
    "plot_data_accuracy = []\n",
    "plot_data_accuracy1 = []\n",
    "for num in [\"sqrt\", \"log2\", 1, 2, 3, 4, 5, 6, None]:\n",
    "    a = print_prediction(training_data, eval_data, min_samples_split=50, min_samples_leaf=40, max_features=num)\n",
    "    plot_data_num.append(num)\n",
    "    plot_data_accuracy.append(a[0])\n",
    "    plot_data_accuracy1.append(a[1])\n",
    "\n",
    "plot1 =  plt.bar(np.arange(len(plot_data_accuracy)), plot_data_accuracy, width=0.5, color=\"y\")\n",
    "\n",
    "plot = plt.bar(np.arange(len(plot_data_accuracy1)), plot_data_accuracy1, width=0.5, color=\"r\")\n",
    "plt.legend((plot1[0], plot[0]), ('Training', 'Eval'))\n",
    "plt.ylim(ymin=.6)\n",
    "plt.xticks(np.arange(len(plot_data_num)), plot_data_num)\n",
    "\n",
    "plt.show()"
   ]
  },
  {
   "cell_type": "markdown",
   "metadata": {},
   "source": [
    "Last but not least we can check if the different strategies for chosing the split-criteria have an impact on classification accuracy."
   ]
  },
  {
   "cell_type": "code",
   "execution_count": 3,
   "metadata": {
    "collapsed": false
   },
   "outputs": [
    {
     "name": "stdout",
     "output_type": "stream",
     "text": [
      "gini\n",
      "0.75651189128\n",
      "0.712494281236\n",
      "entropy\n",
      "0.752684381711\n",
      "0.714529286323\n"
     ]
    }
   ],
   "source": [
    "criterions = ['gini', 'entropy']\n",
    "for crit in criterions:\n",
    "    print(crit)\n",
    "    print_prediction(training_data, eval_data, criterion=crit, min_samples_leaf=20, min_samples_split=80)"
   ]
  },
  {
   "cell_type": "markdown",
   "metadata": {},
   "source": [
    "# Scaling the Data\n",
    "Some methods of machine learning require scaling the data. Somewhat unsuprisingly for decision-tree learning this is not the case."
   ]
  },
  {
   "cell_type": "code",
   "execution_count": 10,
   "metadata": {
    "collapsed": false
   },
   "outputs": [
    {
     "name": "stdout",
     "output_type": "stream",
     "text": [
      "unscaled:\n",
      "0.747754369386\n",
      "0.712069280173\n",
      "scaled:\n",
      "0.747754369386\n",
      "0.712051780129\n"
     ]
    },
    {
     "data": {
      "text/plain": [
       "(0.74775436938592343, 0.71205178012945036)"
      ]
     },
     "execution_count": 10,
     "metadata": {},
     "output_type": "execute_result"
    }
   ],
   "source": [
    "training_scaled = [scaler.transform(training_data[0]), training_data[1]]\n",
    "eval_scaled = [scaler.transform(eval_data[0]), eval_data[1]]\n",
    "\n",
    "print(\"unscaled:\")\n",
    "print_prediction(training_data, eval_data, min_samples_split=80, min_samples_leaf=20)\n",
    "print(\"scaled:\")\n",
    "print_prediction(training_scaled, eval_scaled, min_samples_split=80, min_samples_leaf=20)"
   ]
  },
  {
   "cell_type": "code",
   "execution_count": null,
   "metadata": {
    "collapsed": true
   },
   "outputs": [],
   "source": []
  }
 ],
 "metadata": {
  "kernelspec": {
   "display_name": "Python 3",
   "language": "python",
   "name": "python3"
  },
  "language_info": {
   "codemirror_mode": {
    "name": "ipython",
    "version": 3
   },
   "file_extension": ".py",
   "mimetype": "text/x-python",
   "name": "python",
   "nbconvert_exporter": "python",
   "pygments_lexer": "ipython3",
   "version": "3.5.1"
  }
 },
 "nbformat": 4,
 "nbformat_minor": 0
}
