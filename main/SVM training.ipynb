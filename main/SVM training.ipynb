{
 "cells": [
  {
   "cell_type": "markdown",
   "metadata": {},
   "source": [
    "# Some startup code\n",
    "\n",
    "import packages needed & load dataset"
   ]
  },
  {
   "cell_type": "code",
   "execution_count": 1,
   "metadata": {
    "collapsed": false
   },
   "outputs": [
    {
     "name": "stderr",
     "output_type": "stream",
     "text": [
      "/usr/lib/python3.5/site-packages/IPython/core/interactiveshell.py:2825: DtypeWarning: Columns (0,1,2,3,4,5,6) have mixed types. Specify dtype option on import or set low_memory=False.\n",
      "  if self.run_code(code, result):\n"
     ]
    },
    {
     "name": "stdout",
     "output_type": "stream",
     "text": [
      "training data  : 199999 rows\n",
      "evaluation data: 29999 rows\n",
      "StandardScaler(copy=True, with_mean=True, with_std=True)\n"
     ]
    }
   ],
   "source": [
    "import warnings\n",
    "from sklearn.utils import ConvergenceWarning\n",
    "warnings.simplefilter('ignore', ConvergenceWarning)\n",
    "\n",
    "from sklearn import svm, datasets, preprocessing\n",
    "import numpy as np\n",
    "from loaddata import get_instances_from_csv\n",
    "from startEvaluation import evaluation\n",
    "from matplotlib import pyplot as plt\n",
    "%matplotlib inline\n",
    "\n",
    "\n",
    "\n",
    "DATAPATH = \"../sub_datasets/subset_0.csv\"\n",
    "DATAPATH1 = \"../sub_datasets/subset_1.csv\"\n",
    "RANDOM_SEED=42\n",
    "TRAINROWS = 200000\n",
    "EVALROWS = 30000\n",
    "\n",
    "training_data = get_instances_from_csv(DATAPATH, \"train\", numrows=TRAINROWS)\n",
    "eval_data = get_instances_from_csv(DATAPATH1,\"train\", numrows=EVALROWS)\n",
    "print(\"training data  : %s rows\"%training_data[0].shape[0])\n",
    "print(\"evaluation data: %s rows\"%eval_data[0].shape[0])\n",
    "\n",
    "kernels = ['rbf', 'linear', 'sigmoid', 'poly']\n",
    "\n",
    "scaler = preprocessing.StandardScaler()\n",
    "scaler.fit(training_data[0])\n",
    "print(scaler)\n",
    "\n",
    "def print_prediction(training_data, eval_data, *args, **kwargs):\n",
    "\n",
    "    svc = svm.SVC(random_state=RANDOM_SEED, cache_size=2000, max_iter=4000, *args, **kwargs).fit(training_data[0], training_data[1])\n",
    "    print(svc)\n",
    "    evt = evaluation(training_data[1], svc.predict(training_data[0]))\n",
    "    a1 = evt.print_only_accuracy()\n",
    "    eve = evaluation(eval_data[1], svc.predict(eval_data[0]))\n",
    "    a2 = eve.print_only_accuracy()\n",
    "    return (a1, a2)\n"
   ]
  },
  {
   "cell_type": "markdown",
   "metadata": {},
   "source": [
    "## Basic SVM\n",
    "As you can see the print_prediction function fits the SVM-Model to the training data and prints a very simple evaluation."
   ]
  },
  {
   "cell_type": "code",
   "execution_count": 2,
   "metadata": {
    "collapsed": false
   },
   "outputs": [
    {
     "name": "stdout",
     "output_type": "stream",
     "text": [
      "10000\n",
      "SVC(C=1.0, cache_size=2000, class_weight=None, coef0=0.0,\n",
      "  decision_function_shape=None, degree=3, gamma='auto', kernel='rbf',\n",
      "  max_iter=4000, probability=False, random_state=42, shrinking=True,\n",
      "  tol=0.001, verbose=False)\n",
      "0.885688568857\n",
      "0.847761592053\n",
      "13335\n",
      "SVC(C=1.0, cache_size=2000, class_weight=None, coef0=0.0,\n",
      "  decision_function_shape=None, degree=3, gamma='auto', kernel='rbf',\n",
      "  max_iter=4000, probability=False, random_state=42, shrinking=True,\n",
      "  tol=0.001, verbose=False)\n",
      "0.88810559472\n",
      "0.853895129838\n",
      "17782\n",
      "SVC(C=1.0, cache_size=2000, class_weight=None, coef0=0.0,\n",
      "  decision_function_shape=None, degree=3, gamma='auto', kernel='rbf',\n",
      "  max_iter=4000, probability=False, random_state=42, shrinking=True,\n",
      "  tol=0.001, verbose=False)\n",
      "0.891625892807\n",
      "0.859461982066\n",
      "23713\n",
      "SVC(C=1.0, cache_size=2000, class_weight=None, coef0=0.0,\n",
      "  decision_function_shape=None, degree=3, gamma='auto', kernel='rbf',\n",
      "  max_iter=4000, probability=False, random_state=42, shrinking=True,\n",
      "  tol=0.001, verbose=False)\n",
      "0.89427294197\n",
      "0.868628954298\n",
      "31622\n",
      "SVC(C=1.0, cache_size=2000, class_weight=None, coef0=0.0,\n",
      "  decision_function_shape=None, degree=3, gamma='auto', kernel='rbf',\n",
      "  max_iter=4000, probability=False, random_state=42, shrinking=True,\n",
      "  tol=0.001, verbose=False)\n",
      "0.885993485342\n",
      "0.874395813194\n",
      "42169\n",
      "SVC(C=1.0, cache_size=2000, class_weight=None, coef0=0.0,\n",
      "  decision_function_shape=None, degree=3, gamma='auto', kernel='rbf',\n",
      "  max_iter=4000, probability=False, random_state=42, shrinking=True,\n",
      "  tol=0.001, verbose=False)\n",
      "0.882517548852\n",
      "0.873162438748\n",
      "56234\n",
      "SVC(C=1.0, cache_size=2000, class_weight=None, coef0=0.0,\n",
      "  decision_function_shape=None, degree=3, gamma='auto', kernel='rbf',\n",
      "  max_iter=4000, probability=False, random_state=42, shrinking=True,\n",
      "  tol=0.001, verbose=False)\n",
      "0.846478046699\n",
      "0.846961565386\n",
      "74989\n",
      "SVC(C=1.0, cache_size=2000, class_weight=None, coef0=0.0,\n",
      "  decision_function_shape=None, degree=3, gamma='auto', kernel='rbf',\n",
      "  max_iter=4000, probability=False, random_state=42, shrinking=True,\n",
      "  tol=0.001, verbose=False)\n",
      "0.806182322505\n",
      "0.818493949798\n",
      "100000\n",
      "SVC(C=1.0, cache_size=2000, class_weight=None, coef0=0.0,\n",
      "  decision_function_shape=None, degree=3, gamma='auto', kernel='rbf',\n",
      "  max_iter=4000, probability=False, random_state=42, shrinking=True,\n",
      "  tol=0.001, verbose=False)\n",
      "0.737027370274\n",
      "0.765892196407\n"
     ]
    },
    {
     "data": {
      "image/png": "[encoded data removed]",
      "text/plain": [
       "<matplotlib.figure.Figure at 0x7f1d45becb70>"
      ]
     },
     "metadata": {},
     "output_type": "display_data"
    }
   ],
   "source": [
    "plot_data_num = []\n",
    "plot_data_accuracy = []\n",
    "plot_data_accuracy1 = []\n",
    "for num in np.logspace(4, 5, 9):\n",
    "    print(int(num))\n",
    "    a = print_prediction([training_data[0][1:int(num)],training_data[1][1:int(num)]], eval_data)\n",
    "    plot_data_num.append(int(num))\n",
    "    plot_data_accuracy.append(a[0])\n",
    "    plot_data_accuracy1.append(a[1])\n",
    "\n",
    "plot1 =  plt.bar(np.arange(len(plot_data_accuracy)), plot_data_accuracy, width=0.5, color=\"y\")\n",
    "\n",
    "plot = plt.bar(np.arange(len(plot_data_accuracy1)), plot_data_accuracy1, width=0.5, color=\"r\")\n",
    "plt.legend((plot1[0], plot[0]), ('Training', 'Eval'), loc=3)\n",
    "plt.ylim(ymin=.5)\n",
    "plt.xticks(np.arange(len(plot_data_num))+0.25, plot_data_num)\n",
    "\n",
    "\n",
    "\n",
    "plt.show()"
   ]
  },
  {
   "cell_type": "markdown",
   "metadata": {},
   "source": [
    "As you can see the maximum accuracy is reached between 30k and 40k samples, as the solver is not able to find a good solution for more samples. As such future computations will be made with 42k samples.\n",
    "Additional benefit: Computation goes much faster. However a method to include more training data might be beneficial."
   ]
  },
  {
   "cell_type": "code",
   "execution_count": 3,
   "metadata": {
    "collapsed": false
   },
   "outputs": [
    {
     "name": "stderr",
     "output_type": "stream",
     "text": [
      "/usr/lib/python3.5/site-packages/IPython/core/interactiveshell.py:2825: DtypeWarning: Columns (0,1,2,3,4,5,6) have mixed types. Specify dtype option on import or set low_memory=False.\n",
      "  if self.run_code(code, result):\n"
     ]
    },
    {
     "name": "stdout",
     "output_type": "stream",
     "text": [
      "SVC(C=1.0, cache_size=2000, class_weight=None, coef0=0.0,\n",
      "  decision_function_shape=None, degree=3, gamma='auto', kernel='rbf',\n",
      "  max_iter=4000, probability=False, random_state=42, shrinking=True,\n",
      "  tol=0.001, verbose=False)\n",
      "0.883640086669\n",
      "0.873895796527\n"
     ]
    },
    {
     "data": {
      "text/plain": [
       "(0.88364008666873017, 0.87389579652655092)"
      ]
     },
     "execution_count": 3,
     "metadata": {},
     "output_type": "execute_result"
    }
   ],
   "source": [
    "training_data = get_instances_from_csv(DATAPATH, \"train\", numrows=42000)\n",
    "print_prediction(training_data, eval_data)"
   ]
  },
  {
   "cell_type": "markdown",
   "metadata": {},
   "source": [
    "\n",
    "## Lets use different kernels and see how the perform\n",
    "Currently there are 3 Kernels implemented by sklearn that we can test. (Of course we could also implement own kernels later on)"
   ]
  },
  {
   "cell_type": "code",
   "execution_count": 4,
   "metadata": {
    "collapsed": false
   },
   "outputs": [
    {
     "name": "stdout",
     "output_type": "stream",
     "text": [
      "rbf\n",
      "SVC(C=1.0, cache_size=2000, class_weight=None, coef0=0.0,\n",
      "  decision_function_shape=None, degree=3, gamma='auto', kernel='rbf',\n",
      "  max_iter=4000, probability=False, random_state=42, shrinking=True,\n",
      "  tol=0.001, verbose=False)\n",
      "0.883640086669\n",
      "0.873895796527\n",
      "linear\n",
      "SVC(C=1.0, cache_size=2000, class_weight=None, coef0=0.0,\n",
      "  decision_function_shape=None, degree=3, gamma='auto', kernel='linear',\n",
      "  max_iter=4000, probability=False, random_state=42, shrinking=True,\n",
      "  tol=0.001, verbose=False)\n",
      "0.558799019024\n",
      "0.563718790626\n",
      "sigmoid\n",
      "SVC(C=1.0, cache_size=2000, class_weight=None, coef0=0.0,\n",
      "  decision_function_shape=None, degree=3, gamma='auto', kernel='sigmoid',\n",
      "  max_iter=4000, probability=False, random_state=42, shrinking=True,\n",
      "  tol=0.001, verbose=False)\n",
      "0.133669849282\n",
      "0.136404546818\n",
      "poly\n",
      "SVC(C=1.0, cache_size=2000, class_weight=None, coef0=0.0,\n",
      "  decision_function_shape=None, degree=3, gamma='auto', kernel='poly',\n",
      "  max_iter=4000, probability=False, random_state=42, shrinking=True,\n",
      "  tol=0.001, verbose=False)\n",
      "0.521869568323\n",
      "0.519683989466\n"
     ]
    }
   ],
   "source": [
    "for kernel in kernels:\n",
    "    print(kernel)\n",
    "    print_prediction(training_data, eval_data, kernel=kernel)"
   ]
  },
  {
   "cell_type": "markdown",
   "metadata": {},
   "source": [
    "The RBF kernel seems to perform slightly better then the linear kernel. Both are far better then the polynomial kernel."
   ]
  },
  {
   "cell_type": "markdown",
   "metadata": {},
   "source": [
    "## Lets also check, if scaling the data improves the classification performance\n",
    "Luckily sklearn also provides features for scaling data, the standart scaling function from sklearn scales the data in a way that variance == 1 and mean == 0."
   ]
  },
  {
   "cell_type": "code",
   "execution_count": 5,
   "metadata": {
    "collapsed": false
   },
   "outputs": [
    {
     "name": "stdout",
     "output_type": "stream",
     "text": [
      "rbf\n",
      "SVC(C=1.0, cache_size=2000, class_weight=None, coef0=0.0,\n",
      "  decision_function_shape=None, degree=3, gamma='auto', kernel='rbf',\n",
      "  max_iter=4000, probability=False, random_state=42, shrinking=True,\n",
      "  tol=0.001, verbose=False)\n",
      "0.892759351413\n",
      "0.885396179873\n",
      "linear\n",
      "SVC(C=1.0, cache_size=2000, class_weight=None, coef0=0.0,\n",
      "  decision_function_shape=None, degree=3, gamma='auto', kernel='linear',\n",
      "  max_iter=4000, probability=False, random_state=42, shrinking=True,\n",
      "  tol=0.001, verbose=False)\n",
      "0.541774804162\n",
      "0.539917997267\n",
      "poly\n",
      "SVC(C=1.0, cache_size=2000, class_weight=None, coef0=0.0,\n",
      "  decision_function_shape=None, degree=3, gamma='auto', kernel='poly',\n",
      "  max_iter=4000, probability=False, random_state=42, shrinking=True,\n",
      "  tol=0.001, verbose=False)\n",
      "0.623181504322\n",
      "0.627520917364\n"
     ]
    }
   ],
   "source": [
    "kernels = ['rbf', 'linear', 'poly'] # only use the kernels with good performance\n",
    "\n",
    "training_data_scaled = [scaler.transform(training_data[0]), training_data[1]]\n",
    "eval_data_scaled = [scaler.transform(eval_data[0]), eval_data[1]]\n",
    "for kernel in kernels:\n",
    "    print(kernel)\n",
    "    print_prediction(training_data_scaled, eval_data_scaled, kernel=kernel)"
   ]
  },
  {
   "cell_type": "markdown",
   "metadata": {
    "collapsed": true
   },
   "source": [
    "## Parameter Variations\n",
    "For faster computing only the best-performing kernels are used here."
   ]
  },
  {
   "cell_type": "code",
   "execution_count": 14,
   "metadata": {
    "collapsed": false
   },
   "outputs": [
    {
     "name": "stdout",
     "output_type": "stream",
     "text": [
      "SVC(C=0.01, cache_size=2000, class_weight=None, coef0=0.0,\n",
      "  decision_function_shape=None, degree=3, gamma='auto', kernel='rbf',\n",
      "  max_iter=4000, probability=False, random_state=42, shrinking=True,\n",
      "  tol=0.001, verbose=False)\n",
      "0.753494130813\n",
      "0.757258575286\n",
      "SVC(C=0.037275937203149402, cache_size=2000, class_weight=None, coef0=0.0,\n",
      "  decision_function_shape=None, degree=3, gamma='auto', kernel='rbf',\n",
      "  max_iter=4000, probability=False, random_state=42, shrinking=True,\n",
      "  tol=0.001, verbose=False)\n",
      "0.803114359866\n",
      "0.800260008667\n",
      "SVC(C=0.13894954943731375, cache_size=2000, class_weight=None, coef0=0.0,\n",
      "  decision_function_shape=None, degree=3, gamma='auto', kernel='rbf',\n",
      "  max_iter=4000, probability=False, random_state=42, shrinking=True,\n",
      "  tol=0.001, verbose=False)\n",
      "0.852472677921\n",
      "0.846894896497\n",
      "SVC(C=0.51794746792312096, cache_size=2000, class_weight=None, coef0=0.0,\n",
      "  decision_function_shape=None, degree=3, gamma='auto', kernel='rbf',\n",
      "  max_iter=4000, probability=False, random_state=42, shrinking=True,\n",
      "  tol=0.001, verbose=False)\n",
      "0.873830329294\n",
      "0.866695556519\n",
      "SVC(C=1.9306977288832496, cache_size=2000, class_weight=None, coef0=0.0,\n",
      "  decision_function_shape=None, degree=3, gamma='auto', kernel='rbf',\n",
      "  max_iter=4000, probability=False, random_state=42, shrinking=True,\n",
      "  tol=0.001, verbose=False)\n",
      "0.890592633158\n",
      "0.879895996533\n",
      "SVC(C=7.1968567300115138, cache_size=2000, class_weight=None, coef0=0.0,\n",
      "  decision_function_shape=None, degree=3, gamma='auto', kernel='rbf',\n",
      "  max_iter=4000, probability=False, random_state=42, shrinking=True,\n",
      "  tol=0.001, verbose=False)\n",
      "0.904307245411\n",
      "0.891463048768\n",
      "SVC(C=26.826957952797247, cache_size=2000, class_weight=None, coef0=0.0,\n",
      "  decision_function_shape=None, degree=3, gamma='auto', kernel='rbf',\n",
      "  max_iter=4000, probability=False, random_state=42, shrinking=True,\n",
      "  tol=0.001, verbose=False)\n",
      "0.873449367842\n",
      "0.857161905397\n",
      "SVC(C=100.0, cache_size=2000, class_weight=None, coef0=0.0,\n",
      "  decision_function_shape=None, degree=3, gamma='auto', kernel='rbf',\n",
      "  max_iter=4000, probability=False, random_state=42, shrinking=True,\n",
      "  tol=0.001, verbose=False)\n",
      "0.808090668825\n",
      "0.792526417547\n"
     ]
    },
    {
     "data": {
      "image/png": "[encoded data removed]",
      "text/plain": [
       "<matplotlib.figure.Figure at 0x7f1cfeaac5c0>"
      ]
     },
     "metadata": {},
     "output_type": "display_data"
    },
    {
     "name": "stdout",
     "output_type": "stream",
     "text": [
      "SVC(C=0.01, cache_size=2000, class_weight=None, coef0=0.0,\n",
      "  decision_function_shape=None, degree=3, gamma='auto', kernel='linear',\n",
      "  max_iter=4000, probability=False, random_state=42, shrinking=True,\n",
      "  tol=0.001, verbose=False)\n",
      "0.437891378366\n",
      "0.438314610487\n",
      "SVC(C=0.037275937203149402, cache_size=2000, class_weight=None, coef0=0.0,\n",
      "  decision_function_shape=None, degree=3, gamma='auto', kernel='linear',\n",
      "  max_iter=4000, probability=False, random_state=42, shrinking=True,\n",
      "  tol=0.001, verbose=False)\n",
      "0.604776304198\n",
      "0.611853728458\n",
      "SVC(C=0.13894954943731375, cache_size=2000, class_weight=None, coef0=0.0,\n",
      "  decision_function_shape=None, degree=3, gamma='auto', kernel='linear',\n",
      "  max_iter=4000, probability=False, random_state=42, shrinking=True,\n",
      "  tol=0.001, verbose=False)\n",
      "0.449820233815\n",
      "0.449948331611\n",
      "SVC(C=0.51794746792312096, cache_size=2000, class_weight=None, coef0=0.0,\n",
      "  decision_function_shape=None, degree=3, gamma='auto', kernel='linear',\n",
      "  max_iter=4000, probability=False, random_state=42, shrinking=True,\n",
      "  tol=0.001, verbose=False)\n",
      "0.588109240696\n",
      "0.591053035101\n",
      "SVC(C=1.9306977288832496, cache_size=2000, class_weight=None, coef0=0.0,\n",
      "  decision_function_shape=None, degree=3, gamma='auto', kernel='linear',\n",
      "  max_iter=4000, probability=False, random_state=42, shrinking=True,\n",
      "  tol=0.001, verbose=False)\n",
      "0.497916617062\n",
      "0.49628320944\n",
      "SVC(C=7.1968567300115138, cache_size=2000, class_weight=None, coef0=0.0,\n",
      "  decision_function_shape=None, degree=3, gamma='auto', kernel='linear',\n",
      "  max_iter=4000, probability=False, random_state=42, shrinking=True,\n",
      "  tol=0.001, verbose=False)\n",
      "0.448629729279\n",
      "0.464048801627\n",
      "SVC(C=26.826957952797247, cache_size=2000, class_weight=None, coef0=0.0,\n",
      "  decision_function_shape=None, degree=3, gamma='auto', kernel='linear',\n",
      "  max_iter=4000, probability=False, random_state=42, shrinking=True,\n",
      "  tol=0.001, verbose=False)\n",
      "0.385342508155\n",
      "0.389046301543\n",
      "SVC(C=100.0, cache_size=2000, class_weight=None, coef0=0.0,\n",
      "  decision_function_shape=None, degree=3, gamma='auto', kernel='linear',\n",
      "  max_iter=4000, probability=False, random_state=42, shrinking=True,\n",
      "  tol=0.001, verbose=False)\n",
      "0.367532560299\n",
      "0.378812627088\n"
     ]
    },
    {
     "data": {
      "image/png": "[encoded data removed]",
      "text/plain": [
       "<matplotlib.figure.Figure at 0x7f1cff7529e8>"
      ]
     },
     "metadata": {},
     "output_type": "display_data"
    },
    {
     "name": "stdout",
     "output_type": "stream",
     "text": [
      "SVC(C=0.01, cache_size=2000, class_weight=None, coef0=0.0,\n",
      "  decision_function_shape=None, degree=3, gamma='auto', kernel='poly',\n",
      "  max_iter=4000, probability=False, random_state=42, shrinking=True,\n",
      "  tol=0.001, verbose=False)\n",
      "0.659920474297\n",
      "0.662655421847\n",
      "SVC(C=0.037275937203149402, cache_size=2000, class_weight=None, coef0=0.0,\n",
      "  decision_function_shape=None, degree=3, gamma='auto', kernel='poly',\n",
      "  max_iter=4000, probability=False, random_state=42, shrinking=True,\n",
      "  tol=0.001, verbose=False)\n",
      "0.604728684016\n",
      "0.595619853995\n",
      "SVC(C=0.13894954943731375, cache_size=2000, class_weight=None, coef0=0.0,\n",
      "  decision_function_shape=None, degree=3, gamma='auto', kernel='poly',\n",
      "  max_iter=4000, probability=False, random_state=42, shrinking=True,\n",
      "  tol=0.001, verbose=False)\n",
      "0.491702183385\n",
      "0.493216440548\n",
      "SVC(C=0.51794746792312096, cache_size=2000, class_weight=None, coef0=0.0,\n",
      "  decision_function_shape=None, degree=3, gamma='auto', kernel='poly',\n",
      "  max_iter=4000, probability=False, random_state=42, shrinking=True,\n",
      "  tol=0.001, verbose=False)\n",
      "0.53241743851\n",
      "0.532484416147\n",
      "SVC(C=1.9306977288832496, cache_size=2000, class_weight=None, coef0=0.0,\n",
      "  decision_function_shape=None, degree=3, gamma='auto', kernel='poly',\n",
      "  max_iter=4000, probability=False, random_state=42, shrinking=True,\n",
      "  tol=0.001, verbose=False)\n",
      "0.47291602181\n",
      "0.474449148305\n",
      "SVC(C=7.1968567300115138, cache_size=2000, class_weight=None, coef0=0.0,\n",
      "  decision_function_shape=None, degree=3, gamma='auto', kernel='poly',\n",
      "  max_iter=4000, probability=False, random_state=42, shrinking=True,\n",
      "  tol=0.001, verbose=False)\n",
      "0.366842067668\n",
      "0.35071169039\n",
      "SVC(C=26.826957952797247, cache_size=2000, class_weight=None, coef0=0.0,\n",
      "  decision_function_shape=None, degree=3, gamma='auto', kernel='poly',\n",
      "  max_iter=4000, probability=False, random_state=42, shrinking=True,\n",
      "  tol=0.001, verbose=False)\n",
      "0.331817424224\n",
      "0.327110903697\n",
      "SVC(C=100.0, cache_size=2000, class_weight=None, coef0=0.0,\n",
      "  decision_function_shape=None, degree=3, gamma='auto', kernel='poly',\n",
      "  max_iter=4000, probability=False, random_state=42, shrinking=True,\n",
      "  tol=0.001, verbose=False)\n",
      "0.309697849949\n",
      "0.310577019234\n"
     ]
    },
    {
     "data": {
      "image/png": "[encoded data removed]",
      "text/plain": [
       "<matplotlib.figure.Figure at 0x7f1cff8cc1d0>"
      ]
     },
     "metadata": {},
     "output_type": "display_data"
    }
   ],
   "source": [
    "for kernel in kernels:\n",
    "    plot_data_num = []\n",
    "    plot_data_accuracy = []\n",
    "    plot_data_accuracy1 = []\n",
    "    for C in np.logspace(-2, 2, num=8):\n",
    "        a = print_prediction(training_data, eval_data, kernel=kernel, C=C)\n",
    "        plot_data_num.append(\"{0:.3f}\".format(C))\n",
    "        plot_data_accuracy.append(a[0])\n",
    "        plot_data_accuracy1.append(a[1])\n",
    "\n",
    "    plot1 =  plt.bar(np.arange(len(plot_data_accuracy)), plot_data_accuracy, width=0.5, color=\"y\")\n",
    "    plot = plt.bar(np.arange(len(plot_data_accuracy1)), plot_data_accuracy1, width=0.5, color=\"r\")\n",
    "    plt.legend((plot1[0], plot[0]), ('Training', 'Eval'), loc=3)\n",
    "    plt.xticks(np.arange(len(plot_data_num))+0.25, plot_data_num)\n",
    "    plt.title(kernel)\n",
    "    plt.show()"
   ]
  },
  {
   "cell_type": "code",
   "execution_count": 17,
   "metadata": {
    "collapsed": false
   },
   "outputs": [
    {
     "name": "stdout",
     "output_type": "stream",
     "text": [
      "SVC(C=1.0, cache_size=2000, class_weight=None, coef0=0.0,\n",
      "  decision_function_shape=None, degree=3, gamma=0.001, kernel='rbf',\n",
      "  max_iter=4000, probability=False, random_state=42, shrinking=True,\n",
      "  tol=0.001, verbose=False)\n",
      "0.646158241863\n",
      "0.649121637388\n",
      "SVC(C=1.0, cache_size=2000, class_weight=None, coef0=0.0,\n",
      "  decision_function_shape=None, degree=3, gamma=0.0026826957952797246,\n",
      "  kernel='rbf', max_iter=4000, probability=False, random_state=42,\n",
      "  shrinking=True, tol=0.001, verbose=False)\n",
      "0.668706397771\n",
      "0.671022367412\n",
      "SVC(C=1.0, cache_size=2000, class_weight=None, coef0=0.0,\n",
      "  decision_function_shape=None, degree=3, gamma=0.0071968567300115215,\n",
      "  kernel='rbf', max_iter=4000, probability=False, random_state=42,\n",
      "  shrinking=True, tol=0.001, verbose=False)\n",
      "0.720707635896\n",
      "0.722157405247\n",
      "SVC(C=1.0, cache_size=2000, class_weight=None, coef0=0.0,\n",
      "  decision_function_shape=None, degree=3, gamma=0.019306977288832496,\n",
      "  kernel='rbf', max_iter=4000, probability=False, random_state=42,\n",
      "  shrinking=True, tol=0.001, verbose=False)\n",
      "0.757446605872\n",
      "0.758491949732\n",
      "SVC(C=1.0, cache_size=2000, class_weight=None, coef0=0.0,\n",
      "  decision_function_shape=None, degree=3, gamma=0.0517947467923121,\n",
      "  kernel='rbf', max_iter=4000, probability=False, random_state=42,\n",
      "  shrinking=True, tol=0.001, verbose=False)\n",
      "0.83516274197\n",
      "0.830761025368\n",
      "SVC(C=1.0, cache_size=2000, class_weight=None, coef0=0.0,\n",
      "  decision_function_shape=None, degree=3, gamma=0.13894954943731375,\n",
      "  kernel='rbf', max_iter=4000, probability=False, random_state=42,\n",
      "  shrinking=True, tol=0.001, verbose=False)\n",
      "0.877449463082\n",
      "0.869462315411\n",
      "SVC(C=1.0, cache_size=2000, class_weight=None, coef0=0.0,\n",
      "  decision_function_shape=None, degree=3, gamma=0.37275937203149379,\n",
      "  kernel='rbf', max_iter=4000, probability=False, random_state=42,\n",
      "  shrinking=True, tol=0.001, verbose=False)\n",
      "0.905664420581\n",
      "0.889196306544\n",
      "SVC(C=1.0, cache_size=2000, class_weight=None, coef0=0.0,\n",
      "  decision_function_shape=None, degree=3, gamma=1.0, kernel='rbf',\n",
      "  max_iter=4000, probability=False, random_state=42, shrinking=True,\n",
      "  tol=0.001, verbose=False)\n",
      "0.93552227434\n",
      "0.898596619887\n"
     ]
    },
    {
     "data": {
      "image/png": "[encoded data removed]",
      "text/plain": [
       "<matplotlib.figure.Figure at 0x7f1cff6e7e48>"
      ]
     },
     "metadata": {},
     "output_type": "display_data"
    },
    {
     "name": "stdout",
     "output_type": "stream",
     "text": [
      "SVC(C=1.0, cache_size=2000, class_weight=None, coef0=0.0,\n",
      "  decision_function_shape=None, degree=3, gamma=0.001, kernel='poly',\n",
      "  max_iter=4000, probability=False, random_state=42, shrinking=True,\n",
      "  tol=0.001, verbose=False)\n",
      "0.324983928189\n",
      "0.325210840361\n",
      "SVC(C=1.0, cache_size=2000, class_weight=None, coef0=0.0,\n",
      "  decision_function_shape=None, degree=3, gamma=0.0026826957952797246,\n",
      "  kernel='poly', max_iter=4000, probability=False, random_state=42,\n",
      "  shrinking=True, tol=0.001, verbose=False)\n",
      "0.334865115836\n",
      "0.333877795927\n",
      "SVC(C=1.0, cache_size=2000, class_weight=None, coef0=0.0,\n",
      "  decision_function_shape=None, degree=3, gamma=0.0071968567300115215,\n",
      "  kernel='poly', max_iter=4000, probability=False, random_state=42,\n",
      "  shrinking=True, tol=0.001, verbose=False)\n",
      "0.649158313293\n",
      "0.655121837395\n",
      "SVC(C=1.0, cache_size=2000, class_weight=None, coef0=0.0,\n",
      "  decision_function_shape=None, degree=3, gamma=0.019306977288832496,\n",
      "  kernel='poly', max_iter=4000, probability=False, random_state=42,\n",
      "  shrinking=True, tol=0.001, verbose=False)\n",
      "0.615443224839\n",
      "0.624454148472\n",
      "SVC(C=1.0, cache_size=2000, class_weight=None, coef0=0.0,\n",
      "  decision_function_shape=None, degree=3, gamma=0.0517947467923121,\n",
      "  kernel='poly', max_iter=4000, probability=False, random_state=42,\n",
      "  shrinking=True, tol=0.001, verbose=False)\n",
      "0.635372270768\n",
      "0.629554318477\n",
      "SVC(C=1.0, cache_size=2000, class_weight=None, coef0=0.0,\n",
      "  decision_function_shape=None, degree=3, gamma=0.13894954943731375,\n",
      "  kernel='poly', max_iter=4000, probability=False, random_state=42,\n",
      "  shrinking=True, tol=0.001, verbose=False)\n",
      "0.481797185647\n",
      "0.478215940531\n",
      "SVC(C=1.0, cache_size=2000, class_weight=None, coef0=0.0,\n",
      "  decision_function_shape=None, degree=3, gamma=0.37275937203149379,\n",
      "  kernel='poly', max_iter=4000, probability=False, random_state=42,\n",
      "  shrinking=True, tol=0.001, verbose=False)\n",
      "0.39248553537\n",
      "0.377512583753\n",
      "SVC(C=1.0, cache_size=2000, class_weight=None, coef0=0.0,\n",
      "  decision_function_shape=None, degree=3, gamma=1.0, kernel='poly',\n",
      "  max_iter=4000, probability=False, random_state=42, shrinking=True,\n",
      "  tol=0.001, verbose=False)\n",
      "0.327412557442\n",
      "0.324344144805\n"
     ]
    },
    {
     "data": {
      "image/png": "[encoded data removed]",
      "text/plain": [
       "<matplotlib.figure.Figure at 0x7f1cff88dbe0>"
      ]
     },
     "metadata": {},
     "output_type": "display_data"
    }
   ],
   "source": [
    "\n",
    "for kernel in ['rbf','poly']:\n",
    "    plot_data_num = []\n",
    "    plot_data_accuracy = []\n",
    "    plot_data_accuracy1 = []\n",
    "    for gamma in np.logspace(-3, 0, num=8):\n",
    "        a = print_prediction(training_data, eval_data, kernel=kernel, gamma=gamma)\n",
    "        plot_data_num.append(\"{0:.3f}\".format(gamma))\n",
    "        plot_data_accuracy.append(a[0])\n",
    "        plot_data_accuracy1.append(a[1])\n",
    "\n",
    "    plot1 =  plt.bar(np.arange(len(plot_data_accuracy)), plot_data_accuracy, width=0.5, color=\"y\")\n",
    "    plot = plt.bar(np.arange(len(plot_data_accuracy1)), plot_data_accuracy1, width=0.5, color=\"r\")\n",
    "    plt.legend((plot1[0], plot[0]), ('Training', 'Eval'), loc=3)\n",
    "    plt.ylim(ymin=.5)\n",
    "    plt.xticks(np.arange(len(plot_data_num))+0.25, plot_data_num)\n",
    "    plt.title(kernel)\n",
    "    plt.show()\n"
   ]
  },
  {
   "cell_type": "code",
   "execution_count": 11,
   "metadata": {
    "collapsed": false
   },
   "outputs": [
    {
     "name": "stdout",
     "output_type": "stream",
     "text": [
      "SVC(C=1.0, cache_size=2000, class_weight=None, coef0=0.0,\n",
      "  decision_function_shape='ovo', degree=3, gamma='auto', kernel='rbf',\n",
      "  max_iter=4000, probability=False, random_state=42, shrinking=True,\n",
      "  tol=0.001, verbose=False)\n",
      "0.883640086669\n",
      "0.873895796527\n",
      "SVC(C=1.0, cache_size=2000, class_weight=None, coef0=0.0,\n",
      "  decision_function_shape='ovr', degree=3, gamma='auto', kernel='rbf',\n",
      "  max_iter=4000, probability=False, random_state=42, shrinking=True,\n",
      "  tol=0.001, verbose=False)\n",
      "0.883640086669\n",
      "0.873895796527\n",
      "SVC(C=1.0, cache_size=2000, class_weight=None, coef0=0.0,\n",
      "  decision_function_shape='ovo', degree=3, gamma='auto', kernel='linear',\n",
      "  max_iter=4000, probability=False, random_state=42, shrinking=True,\n",
      "  tol=0.001, verbose=False)\n",
      "0.558799019024\n",
      "0.563718790626\n",
      "SVC(C=1.0, cache_size=2000, class_weight=None, coef0=0.0,\n",
      "  decision_function_shape='ovr', degree=3, gamma='auto', kernel='linear',\n",
      "  max_iter=4000, probability=False, random_state=42, shrinking=True,\n",
      "  tol=0.001, verbose=False)\n",
      "0.558799019024\n",
      "0.563718790626\n",
      "SVC(C=1.0, cache_size=2000, class_weight=None, coef0=0.0,\n",
      "  decision_function_shape='ovo', degree=3, gamma='auto', kernel='poly',\n",
      "  max_iter=4000, probability=False, random_state=42, shrinking=True,\n",
      "  tol=0.001, verbose=False)\n",
      "0.521869568323\n",
      "0.519683989466\n",
      "SVC(C=1.0, cache_size=2000, class_weight=None, coef0=0.0,\n",
      "  decision_function_shape='ovr', degree=3, gamma='auto', kernel='poly',\n",
      "  max_iter=4000, probability=False, random_state=42, shrinking=True,\n",
      "  tol=0.001, verbose=False)\n",
      "0.521869568323\n",
      "0.519683989466\n"
     ]
    }
   ],
   "source": [
    "\n",
    "for kernel in kernels:\n",
    "    for decision_function_shape in ['ovo', 'ovr']:\n",
    "        print_prediction(training_data, eval_data, kernel=kernel, decision_function_shape=decision_function_shape)\n"
   ]
  },
  {
   "cell_type": "markdown",
   "metadata": {},
   "source": [
    "* ovo and ovr strategies have nearly no impact on classification accuracy"
   ]
  },
  {
   "cell_type": "code",
   "execution_count": 16,
   "metadata": {
    "collapsed": false
   },
   "outputs": [
    {
     "name": "stdout",
     "output_type": "stream",
     "text": [
      "SVC(C=1.0, cache_size=2000, class_weight=None, coef0=0.0,\n",
      "  decision_function_shape=None, degree=1, gamma=1.0, kernel='poly',\n",
      "  max_iter=4000, probability=False, random_state=42, shrinking=True,\n",
      "  tol=0.001, verbose=False)\n",
      "0.541774804162\n",
      "0.539917997267\n",
      "SVC(C=1.0, cache_size=2000, class_weight=None, coef0=0.0,\n",
      "  decision_function_shape=None, degree=2, gamma=1.0, kernel='poly',\n",
      "  max_iter=4000, probability=False, random_state=42, shrinking=True,\n",
      "  tol=0.001, verbose=False)\n",
      "0.555513226505\n",
      "0.551585052835\n",
      "SVC(C=1.0, cache_size=2000, class_weight=None, coef0=0.0,\n",
      "  decision_function_shape=None, degree=3, gamma=1.0, kernel='poly',\n",
      "  max_iter=4000, probability=False, random_state=42, shrinking=True,\n",
      "  tol=0.001, verbose=False)\n",
      "0.34429391176\n",
      "0.350945031501\n",
      "SVC(C=1.0, cache_size=2000, class_weight=None, coef0=0.0,\n",
      "  decision_function_shape=None, degree=4, gamma=1.0, kernel='poly',\n",
      "  max_iter=4000, probability=False, random_state=42, shrinking=True,\n",
      "  tol=0.001, verbose=False)\n",
      "0.572037429463\n",
      "0.561985399513\n"
     ]
    },
    {
     "data": {
      "image/png": "[encoded data removed]",
      "text/plain": [
       "<matplotlib.figure.Figure at 0x7f1cff7a3d68>"
      ]
     },
     "metadata": {},
     "output_type": "display_data"
    }
   ],
   "source": [
    "\n",
    "plot_data_num = []\n",
    "plot_data_accuracy = []\n",
    "plot_data_accuracy1 = []\n",
    "for degree in range(1,5):\n",
    "    a = print_prediction(training_data_scaled, eval_data_scaled, kernel='poly', degree=degree, gamma=1.0)\n",
    "    plot_data_num.append(degree)\n",
    "    plot_data_accuracy.append(a[0])\n",
    "    plot_data_accuracy1.append(a[1])\n",
    "\n",
    "plot1 =  plt.bar(np.arange(len(plot_data_accuracy)), plot_data_accuracy, width=0.5, color=\"y\")\n",
    "plot = plt.bar(np.arange(len(plot_data_accuracy1)), plot_data_accuracy1, width=0.5, color=\"r\")\n",
    "plt.legend((plot1[0], plot[0]), ('Training', 'Eval'), loc=3)\n",
    "plt.xticks(np.arange(len(plot_data_num))+0.25, plot_data_num)\n",
    "plt.show()"
   ]
  },
  {
   "cell_type": "code",
   "execution_count": 19,
   "metadata": {
    "collapsed": false
   },
   "outputs": [
    {
     "name": "stdout",
     "output_type": "stream",
     "text": [
      "SVC(C=0.1, cache_size=2000, class_weight=None, coef0=0.0,\n",
      "  decision_function_shape=None, degree=1, gamma=0.3, kernel='poly',\n",
      "  max_iter=4000, probability=False, random_state=42, shrinking=True,\n",
      "  tol=0.001, verbose=False)\n",
      "0.573061263363\n",
      "0.578052601753\n",
      "SVC(C=0.1, cache_size=2000, class_weight=None, coef0=0.0,\n",
      "  decision_function_shape=None, degree=2, gamma=0.3, kernel='poly',\n",
      "  max_iter=4000, probability=False, random_state=42, shrinking=True,\n",
      "  tol=0.001, verbose=False)\n",
      "0.716064668206\n",
      "0.720924030801\n",
      "SVC(C=0.1, cache_size=2000, class_weight=None, coef0=0.0,\n",
      "  decision_function_shape=None, degree=3, gamma=0.3, kernel='poly',\n",
      "  max_iter=4000, probability=False, random_state=42, shrinking=True,\n",
      "  tol=0.001, verbose=False)\n",
      "0.60353817948\n",
      "0.608120270676\n",
      "SVC(C=0.1, cache_size=2000, class_weight=None, coef0=0.0,\n",
      "  decision_function_shape=None, degree=4, gamma=0.3, kernel='poly',\n",
      "  max_iter=4000, probability=False, random_state=42, shrinking=True,\n",
      "  tol=0.001, verbose=False)\n",
      "0.590085478226\n",
      "0.591619720657\n"
     ]
    },
    {
     "data": {
      "image/png": "[encoded data removed]",
      "text/plain": [
       "<matplotlib.figure.Figure at 0x7f1cfea85e80>"
      ]
     },
     "metadata": {},
     "output_type": "display_data"
    }
   ],
   "source": [
    "\n",
    "plot_data_num = []\n",
    "plot_data_accuracy = []\n",
    "plot_data_accuracy1 = []\n",
    "for degree in range(1,5):\n",
    "    a = print_prediction(training_data_scaled, eval_data_scaled, kernel='poly', degree=degree, gamma=0.3, C=0.1)\n",
    "    plot_data_num.append(degree)\n",
    "    plot_data_accuracy.append(a[0])\n",
    "    plot_data_accuracy1.append(a[1])\n",
    "\n",
    "plot1 =  plt.bar(np.arange(len(plot_data_accuracy)), plot_data_accuracy, width=0.5, color=\"y\")\n",
    "plot = plt.bar(np.arange(len(plot_data_accuracy1)), plot_data_accuracy1, width=0.5, color=\"r\")\n",
    "plt.legend((plot1[0], plot[0]), ('Training', 'Eval'), loc=3)\n",
    "plt.xticks(np.arange(len(plot_data_num))+0.25, plot_data_num)\n",
    "plt.show()"
   ]
  },
  {
   "cell_type": "code",
   "execution_count": null,
   "metadata": {
    "collapsed": true
   },
   "outputs": [],
   "source": []
  }
 ],
 "metadata": {
  "kernelspec": {
   "display_name": "Python 3",
   "language": "python",
   "name": "python3"
  },
  "language_info": {
   "codemirror_mode": {
    "name": "ipython",
    "version": 3
   },
   "file_extension": ".py",
   "mimetype": "text/x-python",
   "name": "python",
   "nbconvert_exporter": "python",
   "pygments_lexer": "ipython3",
   "version": "3.5.1"
  }
 },
 "nbformat": 4,
 "nbformat_minor": 0
}
